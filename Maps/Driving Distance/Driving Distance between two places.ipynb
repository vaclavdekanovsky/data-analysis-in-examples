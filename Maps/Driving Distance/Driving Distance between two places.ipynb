{
 "cells": [
  {
   "cell_type": "markdown",
   "metadata": {},
   "source": [
    "# Distance, driving distance and duration between two places\n",
    "Various implementation in python for the Earth surface distance, travelling distance on roads and duration of such a journey. \n",
    "\n",
    "We will get help from the public dataset containing locations of all the world capitals from Kaggle - https://www.kaggle.com/nikitagrec/world-capitals-gps (public)."
   ]
  },
  {
   "cell_type": "code",
   "execution_count": 1,
   "metadata": {
    "ExecuteTime": {
     "end_time": "2020-11-28T22:05:07.453436Z",
     "start_time": "2020-11-28T22:05:06.018903Z"
    }
   },
   "outputs": [],
   "source": [
    "import pandas as pd\n",
    "from geopy import distance\n",
    "import requests # to call the openmap/google apis\n",
    "import json\n",
    "import datetime\n",
    "import math\n",
    "import itertools\n",
    "\n",
    "# you may run into this problem https://stackoverflow.com/questions/61867945/python-import-error-cannot-import-name-six-from-sklearn-externals\n",
    "# I have manually updated site-packages/mlrose/neural.py chaning \n",
    "# original:\n",
    "# from sklearn.external import six\n",
    "# to:\n",
    "# import six\n",
    "import mlrose # for travelling salesman problem\n",
    "\n",
    "# that was fixed in mlrose_hiive, though the outputs are different\n",
    "# import mlrose_hiive\n",
    "import numpy as np"
   ]
  },
  {
   "cell_type": "code",
   "execution_count": 2,
   "metadata": {
    "ExecuteTime": {
     "end_time": "2020-11-28T22:05:07.485286Z",
     "start_time": "2020-11-28T22:05:07.454379Z"
    }
   },
   "outputs": [
    {
     "data": {
      "text/html": [
       "<div>\n",
       "<style scoped>\n",
       "    .dataframe tbody tr th:only-of-type {\n",
       "        vertical-align: middle;\n",
       "    }\n",
       "\n",
       "    .dataframe tbody tr th {\n",
       "        vertical-align: top;\n",
       "    }\n",
       "\n",
       "    .dataframe thead th {\n",
       "        text-align: right;\n",
       "    }\n",
       "</style>\n",
       "<table border=\"1\" class=\"dataframe\">\n",
       "  <thead>\n",
       "    <tr style=\"text-align: right;\">\n",
       "      <th></th>\n",
       "      <th>Country</th>\n",
       "      <th>capital</th>\n",
       "      <th>lat</th>\n",
       "      <th>lon</th>\n",
       "      <th>code</th>\n",
       "      <th>continent</th>\n",
       "    </tr>\n",
       "  </thead>\n",
       "  <tbody>\n",
       "    <tr>\n",
       "      <th>0</th>\n",
       "      <td>Somaliland</td>\n",
       "      <td>Hargeisa</td>\n",
       "      <td>9.550000</td>\n",
       "      <td>44.050000</td>\n",
       "      <td>NaN</td>\n",
       "      <td>Africa</td>\n",
       "    </tr>\n",
       "    <tr>\n",
       "      <th>1</th>\n",
       "      <td>South Georgia and South Sandwich Islands</td>\n",
       "      <td>King Edward Point</td>\n",
       "      <td>-54.283333</td>\n",
       "      <td>-36.500000</td>\n",
       "      <td>GS</td>\n",
       "      <td>Antarctica</td>\n",
       "    </tr>\n",
       "    <tr>\n",
       "      <th>2</th>\n",
       "      <td>French Southern and Antarctic Lands</td>\n",
       "      <td>Port-aux-Français</td>\n",
       "      <td>-49.350000</td>\n",
       "      <td>70.216667</td>\n",
       "      <td>TF</td>\n",
       "      <td>Antarctica</td>\n",
       "    </tr>\n",
       "  </tbody>\n",
       "</table>\n",
       "</div>"
      ],
      "text/plain": [
       "                                    Country            capital        lat  \\\n",
       "0                                Somaliland           Hargeisa   9.550000   \n",
       "1  South Georgia and South Sandwich Islands  King Edward Point -54.283333   \n",
       "2       French Southern and Antarctic Lands  Port-aux-Français -49.350000   \n",
       "\n",
       "         lon code   continent  \n",
       "0  44.050000  NaN      Africa  \n",
       "1 -36.500000   GS  Antarctica  \n",
       "2  70.216667   TF  Antarctica  "
      ]
     },
     "execution_count": 2,
     "metadata": {},
     "output_type": "execute_result"
    }
   ],
   "source": [
    "# load the dataframe with capitals\n",
    "df = pd.read_csv(\"concap.csv\")\n",
    "\n",
    "# rename so that the column names are shorter and comply with PEP-8\n",
    "df.rename(columns={\"CountryName\": \"Country\", \"CapitalName\": \"capital\", \"CapitalLatitude\": \"lat\", \"CapitalLongitude\": \"lon\", \"CountryCode\": \"code\", \"ContinentName\": \"continent\"}, inplace=True)\n",
    "df.head(3)"
   ]
  },
  {
   "cell_type": "markdown",
   "metadata": {
    "ExecuteTime": {
     "end_time": "2020-11-26T20:06:12.936969Z",
     "start_time": "2020-11-26T20:06:12.927988Z"
    }
   },
   "source": [
    "Naming convetion of the variabled is described in PEP-8: https://www.python.org/dev/peps/pep-0008/#function-and-variable-names\n",
    "\n",
    "There's discusion if it should be applied to the pandas columns as well, but I would suggest to do it - https://stackoverflow.com/questions/58584570/pep8-guidance-for-column-names-in-pandas-dataframe"
   ]
  },
  {
   "cell_type": "code",
   "execution_count": 3,
   "metadata": {
    "ExecuteTime": {
     "end_time": "2020-11-28T22:05:07.501279Z",
     "start_time": "2020-11-28T22:05:07.488341Z"
    }
   },
   "outputs": [
    {
     "data": {
      "text/html": [
       "<div>\n",
       "<style scoped>\n",
       "    .dataframe tbody tr th:only-of-type {\n",
       "        vertical-align: middle;\n",
       "    }\n",
       "\n",
       "    .dataframe tbody tr th {\n",
       "        vertical-align: top;\n",
       "    }\n",
       "\n",
       "    .dataframe thead th {\n",
       "        text-align: right;\n",
       "    }\n",
       "</style>\n",
       "<table border=\"1\" class=\"dataframe\">\n",
       "  <thead>\n",
       "    <tr style=\"text-align: right;\">\n",
       "      <th></th>\n",
       "      <th>index</th>\n",
       "      <th>Country</th>\n",
       "      <th>capital</th>\n",
       "      <th>lat</th>\n",
       "      <th>lon</th>\n",
       "      <th>code</th>\n",
       "      <th>continent</th>\n",
       "    </tr>\n",
       "  </thead>\n",
       "  <tbody>\n",
       "    <tr>\n",
       "      <th>0</th>\n",
       "      <td>81</td>\n",
       "      <td>France</td>\n",
       "      <td>Paris</td>\n",
       "      <td>48.866667</td>\n",
       "      <td>2.333333</td>\n",
       "      <td>FR</td>\n",
       "      <td>Europe</td>\n",
       "    </tr>\n",
       "    <tr>\n",
       "      <th>1</th>\n",
       "      <td>110</td>\n",
       "      <td>Italy</td>\n",
       "      <td>Rome</td>\n",
       "      <td>41.900000</td>\n",
       "      <td>12.483333</td>\n",
       "      <td>IT</td>\n",
       "      <td>Europe</td>\n",
       "    </tr>\n",
       "  </tbody>\n",
       "</table>\n",
       "</div>"
      ],
      "text/plain": [
       "   index Country capital        lat        lon code continent\n",
       "0     81  France   Paris  48.866667   2.333333   FR    Europe\n",
       "1    110   Italy    Rome  41.900000  12.483333   IT    Europe"
      ]
     },
     "execution_count": 3,
     "metadata": {},
     "output_type": "execute_result"
    }
   ],
   "source": [
    "# to start with let's filter only 2 capitals. Rome and Paris.\n",
    "ropa = df[df[\"capital\"].isin([\"Rome\",\"Paris\"])].reset_index()\n",
    "cities = ropa.copy()\n",
    "cities"
   ]
  },
  {
   "cell_type": "markdown",
   "metadata": {
    "ExecuteTime": {
     "end_time": "2020-11-26T20:06:58.669000Z",
     "start_time": "2020-11-26T20:06:58.661571Z"
    }
   },
   "source": [
    "## Calculating the distance\n",
    "The first obvious method is to use the shortest distance on the surface of Earth. You can use various approximations:\n",
    "\n",
    "* Great-circle distance on the surface of sphere - https://en.wikipedia.org/wiki/Great-circle_distance\n",
    "* Distances from geodesics since Earth is approximated as oblate ellipsoid https://en.wikipedia.org/wiki/Geodesics_on_an_ellipsoid\n",
    "* Haversine formula - https://en.wikipedia.org/wiki/Haversine_formula, https://towardsdatascience.com/calculating-distance-between-two-geolocations-in-python-26ad3afe287b\n",
    "\n",
    "You don't have to invent or even reproduce this math. The geopy.distance module already implemented all of these distnance calculation, it returns the values in kilometers (km), miles (mi), nautical miles (nm) or feet (ft).  All these methods are part of `distance` class we have already imported from geopy.\n",
    "* `distance((latitude_point_1, longitude_point_1), (lat_2, lon_2))` - using geodesic on `WGS-84` ellipsoid\n",
    "* `geodesic((latitude_point_1, longitude_point_1), (lat_2, lon_2))`\n",
    "* `great_circle((latitude_point_1, longitude_point_1), (lat_2, lon_2))`\n",
    "\n",
    "More info about geopy.distance https://geopy.readthedocs.io/en/stable/#module-geopy.distance"
   ]
  },
  {
   "cell_type": "code",
   "execution_count": 4,
   "metadata": {
    "ExecuteTime": {
     "end_time": "2020-11-28T22:05:07.516777Z",
     "start_time": "2020-11-28T22:05:07.503271Z"
    }
   },
   "outputs": [
    {
     "data": {
      "text/plain": [
       "(Distance(1107.8818760940028), 1107.8818760940028, 688.4058822066647)"
      ]
     },
     "execution_count": 4,
     "metadata": {},
     "output_type": "execute_result"
    }
   ],
   "source": [
    "d = distance.distance((cities.loc[0, \"lat\"], cities.loc[0, \"lon\"]), (cities.loc[1, \"lat\"], cities.loc[1, \"lon\"]))\n",
    "d, d.km, d.miles"
   ]
  },
  {
   "cell_type": "code",
   "execution_count": 5,
   "metadata": {
    "ExecuteTime": {
     "end_time": "2020-11-28T22:05:07.532846Z",
     "start_time": "2020-11-28T22:05:07.517777Z"
    }
   },
   "outputs": [
    {
     "data": {
      "text/plain": [
       "1107.8818760940028"
      ]
     },
     "execution_count": 5,
     "metadata": {},
     "output_type": "execute_result"
    }
   ],
   "source": [
    "getattr(d, \"km\")"
   ]
  },
  {
   "cell_type": "code",
   "execution_count": 6,
   "metadata": {
    "ExecuteTime": {
     "end_time": "2020-11-28T22:05:07.612199Z",
     "start_time": "2020-11-28T22:05:07.534842Z"
    }
   },
   "outputs": [
    {
     "data": {
      "text/html": [
       "<div>\n",
       "<style scoped>\n",
       "    .dataframe tbody tr th:only-of-type {\n",
       "        vertical-align: middle;\n",
       "    }\n",
       "\n",
       "    .dataframe tbody tr th {\n",
       "        vertical-align: top;\n",
       "    }\n",
       "\n",
       "    .dataframe thead th {\n",
       "        text-align: right;\n",
       "    }\n",
       "</style>\n",
       "<table border=\"1\" class=\"dataframe\">\n",
       "  <thead>\n",
       "    <tr style=\"text-align: right;\">\n",
       "      <th>measurement</th>\n",
       "      <th>feet</th>\n",
       "      <th>ft</th>\n",
       "      <th>kilometers</th>\n",
       "      <th>km</th>\n",
       "      <th>mi</th>\n",
       "      <th>miles</th>\n",
       "      <th>nautical</th>\n",
       "      <th>nm</th>\n",
       "    </tr>\n",
       "    <tr>\n",
       "      <th>method</th>\n",
       "      <th></th>\n",
       "      <th></th>\n",
       "      <th></th>\n",
       "      <th></th>\n",
       "      <th></th>\n",
       "      <th></th>\n",
       "      <th></th>\n",
       "      <th></th>\n",
       "    </tr>\n",
       "  </thead>\n",
       "  <tbody>\n",
       "    <tr>\n",
       "      <th>geodesic</th>\n",
       "      <td>3.634783e+06</td>\n",
       "      <td>3.634783e+06</td>\n",
       "      <td>1107.881876</td>\n",
       "      <td>1107.881876</td>\n",
       "      <td>688.405882</td>\n",
       "      <td>688.405882</td>\n",
       "      <td>598.208356</td>\n",
       "      <td>598.208356</td>\n",
       "    </tr>\n",
       "    <tr>\n",
       "      <th>great_circle</th>\n",
       "      <td>3.630457e+06</td>\n",
       "      <td>3.630457e+06</td>\n",
       "      <td>1106.563205</td>\n",
       "      <td>1106.563205</td>\n",
       "      <td>687.586498</td>\n",
       "      <td>687.586498</td>\n",
       "      <td>597.496331</td>\n",
       "      <td>597.496331</td>\n",
       "    </tr>\n",
       "  </tbody>\n",
       "</table>\n",
       "</div>"
      ],
      "text/plain": [
       "measurement           feet            ft   kilometers           km  \\\n",
       "method                                                               \n",
       "geodesic      3.634783e+06  3.634783e+06  1107.881876  1107.881876   \n",
       "great_circle  3.630457e+06  3.630457e+06  1106.563205  1106.563205   \n",
       "\n",
       "measurement           mi       miles    nautical          nm  \n",
       "method                                                        \n",
       "geodesic      688.405882  688.405882  598.208356  598.208356  \n",
       "great_circle  687.586498  687.586498  597.496331  597.496331  "
      ]
     },
     "execution_count": 6,
     "metadata": {},
     "output_type": "execute_result"
    }
   ],
   "source": [
    "results = []\n",
    "for f in [distance.distance, distance.great_circle, distance.geodesic]:\n",
    "    for mes in [\"kilometers\",\"km\",\"miles\",\"mi\",\"nautical\",\"nm\",\"feet\",\"ft\"]:\n",
    "        d = f((cities.loc[0, \"lat\"], cities.loc[0, \"lon\"]), (cities.loc[1, \"lat\"], cities.loc[1, \"lon\"]))\n",
    "        results.append({\"method\": f.__name__, \"measurement\": mes, \"value\": getattr(d, mes)})\n",
    "\n",
    "# show as dataframe\n",
    "results_df = pd.DataFrame(results)\n",
    "results_df.pivot_table(index=\"method\", columns=\"measurement\", values=\"value\")"
   ]
  },
  {
   "cell_type": "markdown",
   "metadata": {
    "ExecuteTime": {
     "end_time": "2020-11-26T21:40:38.912805Z",
     "start_time": "2020-11-26T21:40:38.898827Z"
    }
   },
   "source": [
    "`distance.distance` nativelly calls `distance.geodesic` that's why these two calues collapse into one row in the results. "
   ]
  },
  {
   "cell_type": "code",
   "execution_count": 7,
   "metadata": {
    "ExecuteTime": {
     "end_time": "2020-11-28T22:05:07.689528Z",
     "start_time": "2020-11-28T22:05:07.615166Z"
    }
   },
   "outputs": [
    {
     "data": {
      "text/html": [
       "<div>\n",
       "<style scoped>\n",
       "    .dataframe tbody tr th:only-of-type {\n",
       "        vertical-align: middle;\n",
       "    }\n",
       "\n",
       "    .dataframe tbody tr th {\n",
       "        vertical-align: top;\n",
       "    }\n",
       "\n",
       "    .dataframe thead th {\n",
       "        text-align: right;\n",
       "    }\n",
       "</style>\n",
       "<table border=\"1\" class=\"dataframe\">\n",
       "  <thead>\n",
       "    <tr style=\"text-align: right;\">\n",
       "      <th>measurement</th>\n",
       "      <th>feet</th>\n",
       "      <th>ft</th>\n",
       "      <th>kilometers</th>\n",
       "      <th>km</th>\n",
       "      <th>mi</th>\n",
       "      <th>miles</th>\n",
       "      <th>nautical</th>\n",
       "      <th>nm</th>\n",
       "    </tr>\n",
       "    <tr>\n",
       "      <th>method</th>\n",
       "      <th></th>\n",
       "      <th></th>\n",
       "      <th></th>\n",
       "      <th></th>\n",
       "      <th></th>\n",
       "      <th></th>\n",
       "      <th></th>\n",
       "      <th></th>\n",
       "    </tr>\n",
       "  </thead>\n",
       "  <tbody>\n",
       "    <tr>\n",
       "      <th>geodesic</th>\n",
       "      <td>3.634783e+06</td>\n",
       "      <td>3.634783e+06</td>\n",
       "      <td>1107.881876</td>\n",
       "      <td>1107.881876</td>\n",
       "      <td>688.405882</td>\n",
       "      <td>688.405882</td>\n",
       "      <td>598.208356</td>\n",
       "      <td>598.208356</td>\n",
       "    </tr>\n",
       "    <tr>\n",
       "      <th>geodesic: Airy (1830)</th>\n",
       "      <td>3.634455e+06</td>\n",
       "      <td>3.634455e+06</td>\n",
       "      <td>1107.781964</td>\n",
       "      <td>1107.781964</td>\n",
       "      <td>688.343800</td>\n",
       "      <td>688.343800</td>\n",
       "      <td>598.154408</td>\n",
       "      <td>598.154408</td>\n",
       "    </tr>\n",
       "    <tr>\n",
       "      <th>geodesic: Clarke (1880)</th>\n",
       "      <td>3.634851e+06</td>\n",
       "      <td>3.634851e+06</td>\n",
       "      <td>1107.902624</td>\n",
       "      <td>1107.902624</td>\n",
       "      <td>688.418774</td>\n",
       "      <td>688.418774</td>\n",
       "      <td>598.219559</td>\n",
       "      <td>598.219559</td>\n",
       "    </tr>\n",
       "    <tr>\n",
       "      <th>geodesic: GRS-67</th>\n",
       "      <td>3.634796e+06</td>\n",
       "      <td>3.634796e+06</td>\n",
       "      <td>1107.885873</td>\n",
       "      <td>1107.885873</td>\n",
       "      <td>688.408366</td>\n",
       "      <td>688.408366</td>\n",
       "      <td>598.210515</td>\n",
       "      <td>598.210515</td>\n",
       "    </tr>\n",
       "    <tr>\n",
       "      <th>geodesic: GRS-80</th>\n",
       "      <td>3.634783e+06</td>\n",
       "      <td>3.634783e+06</td>\n",
       "      <td>1107.881876</td>\n",
       "      <td>1107.881876</td>\n",
       "      <td>688.405882</td>\n",
       "      <td>688.405882</td>\n",
       "      <td>598.208356</td>\n",
       "      <td>598.208356</td>\n",
       "    </tr>\n",
       "    <tr>\n",
       "      <th>geodesic: Intl 1924</th>\n",
       "      <td>3.634927e+06</td>\n",
       "      <td>3.634927e+06</td>\n",
       "      <td>1107.925804</td>\n",
       "      <td>1107.925804</td>\n",
       "      <td>688.433178</td>\n",
       "      <td>688.433178</td>\n",
       "      <td>598.232075</td>\n",
       "      <td>598.232075</td>\n",
       "    </tr>\n",
       "    <tr>\n",
       "      <th>geodesic: WGS-84</th>\n",
       "      <td>3.634783e+06</td>\n",
       "      <td>3.634783e+06</td>\n",
       "      <td>1107.881876</td>\n",
       "      <td>1107.881876</td>\n",
       "      <td>688.405882</td>\n",
       "      <td>688.405882</td>\n",
       "      <td>598.208356</td>\n",
       "      <td>598.208356</td>\n",
       "    </tr>\n",
       "    <tr>\n",
       "      <th>great_circle</th>\n",
       "      <td>3.630457e+06</td>\n",
       "      <td>3.630457e+06</td>\n",
       "      <td>1106.563205</td>\n",
       "      <td>1106.563205</td>\n",
       "      <td>687.586498</td>\n",
       "      <td>687.586498</td>\n",
       "      <td>597.496331</td>\n",
       "      <td>597.496331</td>\n",
       "    </tr>\n",
       "  </tbody>\n",
       "</table>\n",
       "</div>"
      ],
      "text/plain": [
       "measurement                      feet            ft   kilometers           km  \\\n",
       "method                                                                          \n",
       "geodesic                 3.634783e+06  3.634783e+06  1107.881876  1107.881876   \n",
       "geodesic: Airy (1830)    3.634455e+06  3.634455e+06  1107.781964  1107.781964   \n",
       "geodesic: Clarke (1880)  3.634851e+06  3.634851e+06  1107.902624  1107.902624   \n",
       "geodesic: GRS-67         3.634796e+06  3.634796e+06  1107.885873  1107.885873   \n",
       "geodesic: GRS-80         3.634783e+06  3.634783e+06  1107.881876  1107.881876   \n",
       "geodesic: Intl 1924      3.634927e+06  3.634927e+06  1107.925804  1107.925804   \n",
       "geodesic: WGS-84         3.634783e+06  3.634783e+06  1107.881876  1107.881876   \n",
       "great_circle             3.630457e+06  3.630457e+06  1106.563205  1106.563205   \n",
       "\n",
       "measurement                      mi       miles    nautical          nm  \n",
       "method                                                                   \n",
       "geodesic                 688.405882  688.405882  598.208356  598.208356  \n",
       "geodesic: Airy (1830)    688.343800  688.343800  598.154408  598.154408  \n",
       "geodesic: Clarke (1880)  688.418774  688.418774  598.219559  598.219559  \n",
       "geodesic: GRS-67         688.408366  688.408366  598.210515  598.210515  \n",
       "geodesic: GRS-80         688.405882  688.405882  598.208356  598.208356  \n",
       "geodesic: Intl 1924      688.433178  688.433178  598.232075  598.232075  \n",
       "geodesic: WGS-84         688.405882  688.405882  598.208356  598.208356  \n",
       "great_circle             687.586498  687.586498  597.496331  597.496331  "
      ]
     },
     "execution_count": 7,
     "metadata": {},
     "output_type": "execute_result"
    }
   ],
   "source": [
    "# the distance for various ellipsiods\n",
    "for ellipsoid in distance.ELLIPSOIDS:\n",
    "    for mes in [\"kilometers\",\"km\",\"miles\",\"mi\",\"nautical\",\"nm\",\"feet\",\"ft\"]:\n",
    "        d = distance.geodesic((cities.loc[0, \"lat\"], cities.loc[0, \"lon\"]), (cities.loc[1, \"lat\"], cities.loc[1, \"lon\"]), ellipsoid=ellipsoid)\n",
    "        results.append({\"method\": f\"geodesic: {ellipsoid}\", \"measurement\": mes, \"value\": getattr(d, mes)})\n",
    "\n",
    "# show as dataframe\n",
    "results_df = pd.DataFrame(results)\n",
    "results_df.pivot_table(index=\"method\", columns=\"measurement\", values=\"value\")"
   ]
  },
  {
   "cell_type": "markdown",
   "metadata": {},
   "source": [
    "# Driving distance\n",
    "The cities can be quite close on the surface, though natural obstacles like sea or mountain can cause that the driving distance is much longer. "
   ]
  },
  {
   "cell_type": "code",
   "execution_count": 8,
   "metadata": {
    "ExecuteTime": {
     "end_time": "2020-11-28T22:05:07.705353Z",
     "start_time": "2020-11-28T22:05:07.691360Z"
    }
   },
   "outputs": [
    {
     "data": {
      "text/plain": [
       "397.76330968599365"
      ]
     },
     "execution_count": 8,
     "metadata": {},
     "output_type": "execute_result"
    }
   ],
   "source": [
    "hest = df[df[\"capital\"].isin([\"Helsinki\",\"Stockholm\"])].reset_index()\n",
    "cities = hest.copy()\n",
    "d = distance.distance((cities.loc[0, \"lat\"], cities.loc[0, \"lon\"]), (cities.loc[1, \"lat\"], cities.loc[1, \"lon\"]))\n",
    "d.km"
   ]
  },
  {
   "cell_type": "markdown",
   "metadata": {
    "ExecuteTime": {
     "end_time": "2020-11-26T21:50:06.840631Z",
     "start_time": "2020-11-26T21:50:06.822678Z"
    }
   },
   "source": [
    "Even though the distance between Helsinky, the capita of Finland and Stockholm in Sweden less than 400km, if you decide to drive it's more than 1750km and 20 hours. Even if you take ferries you will drive almost 500km. Paris is located only 1107km from Rome, but roads connecting these cities have at least 1420km. \n",
    "\n",
    "\n",
    "That's why for many application you want to know the real travel distance, which no mathematical function can return. You need to call some map service API - e.g. google routes or osrm route service (http://project-osrm.org/docs/v5.5.1/api/#route-service). The documentation says that in order to get the driving distance we need to call this API endoint - `/route/v1/{profile}/{coordinates}?alternatives={true|false}&steps={true|false}&geometries={polyline|polyline6|geojson}&overview={full|simplified|false}&annotations={true|false}` having parameters: \n",
    "\n",
    "* `profile` - car, bike, foot \n",
    "* `coordinates` - lat,lon of the first point; lon, lat of the second point, e.g. 2.333333,48.866667;12.483333,41.900000\n",
    "* `alternative` - whether to return only the first option or more alternatives\n",
    "* `steps` - whether to return route steps - e.g. at the crossroad turn left\n",
    "* `geometries` - how is the route returned, either `polyline` (def`ault), `polyline6` ,  `geojson`\n",
    "* `overview` - how  to return the route - `simplified` (default), `full`,  `false`\n",
    "* `annotations` - if additional metadata are provided for each point on the route\n",
    "\n",
    "For our purpose, we can run the simplest request, having everything set to false or default. We will simply call: `http://router.project-osrm.org/route/v1/driving/cities.loc[0, \"lon\"],cities.loc[0, \"lat\"];cities.loc[1, \"lon\"],cities.loc[1, \"lat\"]?overview=false`\n",
    "\n",
    "To get the API's response, we will use the python's requests method. "
   ]
  },
  {
   "cell_type": "code",
   "execution_count": 9,
   "metadata": {
    "ExecuteTime": {
     "end_time": "2020-11-28T22:05:07.938822Z",
     "start_time": "2020-11-28T22:05:07.707316Z"
    }
   },
   "outputs": [],
   "source": [
    "cities = ropa.copy()\n",
    "r = requests.get(f\"\"\"http://router.project-osrm.org/route/v1/car/{cities.loc[0, \"lon\"]},{cities.loc[0, \"lat\"]};{cities.loc[1, \"lon\"]},{cities.loc[1, \"lat\"]}?overview=false\"\"\")"
   ]
  },
  {
   "cell_type": "markdown",
   "metadata": {},
   "source": [
    "It returns whatever is provided by the API in the `content` parameter."
   ]
  },
  {
   "cell_type": "code",
   "execution_count": 10,
   "metadata": {
    "ExecuteTime": {
     "end_time": "2020-11-28T22:05:07.954778Z",
     "start_time": "2020-11-28T22:05:07.940816Z"
    }
   },
   "outputs": [
    {
     "data": {
      "text/plain": [
       "b'{\"code\":\"Ok\",\"waypoints\":[{\"hint\":\"SJu0lP___39RAAAAYQAAAAkAAAAAAAAAUTdZQvgsIUGPZrZAAAAAAFEAAABhAAAACQAAAAAAAADcFwEA45kjAJ6l6QKVmiMAa6XpAgEAvwwTttuE\",\"distance\":14.236102,\"location\":[2.333155,48.866718],\"name\":\"Rue Saint-Roch\"},{\"hint\":\"F1L0jv___38VAAAAZgAAAAAAAAAAAAAA3AxzQf1MYEIAAAAAAAAAABUAAABmAAAAAAAAAAAAAADcFwEAbXu-AFBXfwIFe74A4Fd_AgAAHw8TttuE\",\"distance\":18.175415,\"location\":[12.483437,41.899856],\"name\":\"Via dell\\'Umilt\\xc3\\xa0\"}],\"routes\":[{\"legs\":[{\"steps\":[],\"weight\":54305.7,\"distance\":1432281.4,\"summary\":\"\",\"duration\":54279.6}],\"weight_name\":\"routability\",\"weight\":54305.7,\"distance\":1432281.4,\"duration\":54279.6}]}'"
      ]
     },
     "execution_count": 10,
     "metadata": {},
     "output_type": "execute_result"
    }
   ],
   "source": [
    "r.content"
   ]
  },
  {
   "cell_type": "markdown",
   "metadata": {},
   "source": [
    "We can see that it returns a json object, which looks nices, when passed to the python's json library. "
   ]
  },
  {
   "cell_type": "code",
   "execution_count": 11,
   "metadata": {
    "ExecuteTime": {
     "end_time": "2020-11-28T22:05:07.969741Z",
     "start_time": "2020-11-28T22:05:07.958770Z"
    }
   },
   "outputs": [
    {
     "data": {
      "text/plain": [
       "{'code': 'Ok',\n",
       " 'waypoints': [{'hint': 'SJu0lP___39RAAAAYQAAAAkAAAAAAAAAUTdZQvgsIUGPZrZAAAAAAFEAAABhAAAACQAAAAAAAADcFwEA45kjAJ6l6QKVmiMAa6XpAgEAvwwTttuE',\n",
       "   'distance': 14.236102,\n",
       "   'location': [2.333155, 48.866718],\n",
       "   'name': 'Rue Saint-Roch'},\n",
       "  {'hint': 'F1L0jv___38VAAAAZgAAAAAAAAAAAAAA3AxzQf1MYEIAAAAAAAAAABUAAABmAAAAAAAAAAAAAADcFwEAbXu-AFBXfwIFe74A4Fd_AgAAHw8TttuE',\n",
       "   'distance': 18.175415,\n",
       "   'location': [12.483437, 41.899856],\n",
       "   'name': \"Via dell'Umiltà\"}],\n",
       " 'routes': [{'legs': [{'steps': [],\n",
       "     'weight': 54305.7,\n",
       "     'distance': 1432281.4,\n",
       "     'summary': '',\n",
       "     'duration': 54279.6}],\n",
       "   'weight_name': 'routability',\n",
       "   'weight': 54305.7,\n",
       "   'distance': 1432281.4,\n",
       "   'duration': 54279.6}]}"
      ]
     },
     "execution_count": 11,
     "metadata": {},
     "output_type": "execute_result"
    }
   ],
   "source": [
    "json.loads(r.content)"
   ]
  },
  {
   "cell_type": "markdown",
   "metadata": {},
   "source": [
    "We're mainly interested about the driving `distance` and/or driving `duration`. These parameters are included into the `route` subelement which contains a list of routes. Because we haven't asked for any alternative, this list has only one item. "
   ]
  },
  {
   "cell_type": "code",
   "execution_count": 12,
   "metadata": {
    "ExecuteTime": {
     "end_time": "2020-11-28T22:05:07.984709Z",
     "start_time": "2020-11-28T22:05:07.974726Z"
    }
   },
   "outputs": [
    {
     "data": {
      "text/plain": [
       "(1432281.4, 54279.6)"
      ]
     },
     "execution_count": 12,
     "metadata": {},
     "output_type": "execute_result"
    }
   ],
   "source": [
    "route_1 = json.loads(r.content)[\"routes\"][0]\n",
    "route_1[\"distance\"], route_1[\"duration\"]"
   ]
  },
  {
   "cell_type": "markdown",
   "metadata": {
    "ExecuteTime": {
     "end_time": "2020-11-27T18:31:42.373161Z",
     "start_time": "2020-11-27T18:31:42.359903Z"
    }
   },
   "source": [
    "If the resulted numbers look strange, beware that the distance is in meters and duration in seconds. You can easily check that the values are correct online - https://www.openstreetmap.org/directions?engine=fossgis_osrm_car&route=48.867%2C2.333%3B41.900%2C12.484 (for driving distance by car from Paris to Rome). \n",
    "\n",
    "Maybe you prefer more human readable format. That can be achieved by passing the received duration as a parameter to `timedelta` function of `datetime` and return the string representation. In case it's more than 1 day (I've added 100000 seconds the Paris-Rome distance for that purpose), than it's displayed.  "
   ]
  },
  {
   "cell_type": "code",
   "execution_count": 13,
   "metadata": {
    "ExecuteTime": {
     "end_time": "2020-11-28T22:05:08.000656Z",
     "start_time": "2020-11-28T22:05:07.987692Z"
    }
   },
   "outputs": [],
   "source": [
    "x = datetime.timedelta(seconds=route_1[\"duration\"])"
   ]
  },
  {
   "cell_type": "code",
   "execution_count": 14,
   "metadata": {
    "ExecuteTime": {
     "end_time": "2020-11-28T22:05:08.031575Z",
     "start_time": "2020-11-28T22:05:08.008635Z"
    }
   },
   "outputs": [
    {
     "data": {
      "text/plain": [
       "'15:04:39.600000'"
      ]
     },
     "execution_count": 14,
     "metadata": {},
     "output_type": "execute_result"
    }
   ],
   "source": [
    "str(x)"
   ]
  },
  {
   "cell_type": "markdown",
   "metadata": {
    "ExecuteTime": {
     "end_time": "2020-11-27T18:42:05.353501Z",
     "start_time": "2020-11-27T18:42:05.341134Z"
    }
   },
   "source": [
    "You can also use pandas, if you specify the type of the `duration` column to be `timedelta64[s]`."
   ]
  },
  {
   "cell_type": "code",
   "execution_count": 15,
   "metadata": {
    "ExecuteTime": {
     "end_time": "2020-11-28T22:05:08.063487Z",
     "start_time": "2020-11-28T22:05:08.037559Z"
    }
   },
   "outputs": [
    {
     "data": {
      "text/html": [
       "<div>\n",
       "<style scoped>\n",
       "    .dataframe tbody tr th:only-of-type {\n",
       "        vertical-align: middle;\n",
       "    }\n",
       "\n",
       "    .dataframe tbody tr th {\n",
       "        vertical-align: top;\n",
       "    }\n",
       "\n",
       "    .dataframe thead th {\n",
       "        text-align: right;\n",
       "    }\n",
       "</style>\n",
       "<table border=\"1\" class=\"dataframe\">\n",
       "  <thead>\n",
       "    <tr style=\"text-align: right;\">\n",
       "      <th></th>\n",
       "      <th>duration</th>\n",
       "    </tr>\n",
       "  </thead>\n",
       "  <tbody>\n",
       "    <tr>\n",
       "      <th>0</th>\n",
       "      <td>1 days 18:51:19</td>\n",
       "    </tr>\n",
       "  </tbody>\n",
       "</table>\n",
       "</div>"
      ],
      "text/plain": [
       "         duration\n",
       "0 1 days 18:51:19"
      ]
     },
     "execution_count": 15,
     "metadata": {},
     "output_type": "execute_result"
    }
   ],
   "source": [
    "dftime = pd.DataFrame({\"duration\":route_1[\"duration\"]+100000}, index=[0])\n",
    "dftime[\"duration\"] = dftime[\"duration\"].astype(\"timedelta64[s]\")\n",
    "dftime"
   ]
  },
  {
   "cell_type": "markdown",
   "metadata": {
    "ExecuteTime": {
     "end_time": "2020-11-27T18:47:34.278375Z",
     "start_time": "2020-11-27T18:47:34.268290Z"
    }
   },
   "source": [
    "You should use the OSRM project responsibly, because it's there to server everyone. Read the rules of the service https://github.com/Project-OSRM/osrm-backend/wiki/Api-usage-policy. \n",
    "\n",
    "If you are building a business application which needs hundreds or thousands of route requests, opt for a commercial product like google direction service. https://developers.google.com/maps/documentation/directions/overview. Again you use the requests library, specify correct url and get the result. Beware that you need to make an agreement with Google and these requests are paid. You have to prove yourself with valid API key and you are billed according to the service policies. Usually these services offer some free amount of searches, which can be used for your proof of concept. E.g. google offer \\\\$200/month worth of credit, while 1K requests costs \\\\$10. \n",
    "\n",
    "In order to avoid surprises, always restrict your API keys to the purpose you need it for and set up the billing ceiling. "
   ]
  },
  {
   "cell_type": "code",
   "execution_count": 16,
   "metadata": {
    "ExecuteTime": {
     "end_time": "2020-11-28T22:05:08.079445Z",
     "start_time": "2020-11-28T22:05:08.069473Z"
    }
   },
   "outputs": [
    {
     "name": "stdout",
     "output_type": "stream",
     "text": [
      "https://maps.googleapis.com/maps/api/directions/json?origin=48.86666666666667,2.333333&destination=41.9,12.483333&mode=driving&key=...your_google_api_key"
     ]
    }
   ],
   "source": [
    "origin_coor = \",\".join([str(cities.loc[0,\"lat\"]), str(cities.loc[0,\"lon\"])])\n",
    "destination_coor = \",\".join([str(cities.loc[1,\"lat\"]), str(cities.loc[1,\"lon\"])])\n",
    "API_KEY = \"...your_google_api_key...\"\n",
    "url = f\"https://maps.googleapis.com/maps/api/directions/json?origin={origin_coor}&destination={destination_coor}&mode=driving&key={API_KEY}\"\n",
    "\n",
    "# alternatively you can specify the start point (origin) and the destination using the places' names\n",
    "url_alt = f\"https://maps.googleapis.com/maps/api/directions/json?origin=Paris&destination=Rome&mode=driving&key={API_KEY}\"\n",
    "print(url)"
   ]
  },
  {
   "cell_type": "code",
   "execution_count": 17,
   "metadata": {
    "ExecuteTime": {
     "end_time": "2020-11-28T22:05:08.607266Z",
     "start_time": "2020-11-28T22:05:08.083440Z"
    }
   },
   "outputs": [],
   "source": [
    "r = requests.get(url_alt)"
   ]
  },
  {
   "cell_type": "markdown",
   "metadata": {},
   "source": [
    "In this case you find the results in the the appropriate keys of the response. "
   ]
  },
  {
   "cell_type": "code",
   "execution_count": 18,
   "metadata": {
    "ExecuteTime": {
     "end_time": "2020-11-28T22:05:08.622179Z",
     "start_time": "2020-11-28T22:05:08.609244Z"
    }
   },
   "outputs": [
    {
     "data": {
      "text/plain": [
       "({'text': '13 hours 44 mins', 'value': 49460},\n",
       " {'text': '1,420 km', 'value': 1420429})"
      ]
     },
     "execution_count": 18,
     "metadata": {},
     "output_type": "execute_result"
    }
   ],
   "source": [
    "results = json.loads(r.content)\n",
    "legs = results.get(\"routes\").pop(0).get(\"legs\")\n",
    "legs[0].get(\"duration\"), legs[0].get(\"distance\")"
   ]
  },
  {
   "cell_type": "code",
   "execution_count": 19,
   "metadata": {},
   "outputs": [
    {
     "data": {
      "text/plain": [
       "{'text': '13 hours 44 mins', 'value': 49460}"
      ]
     },
     "execution_count": 19,
     "metadata": {},
     "output_type": "execute_result"
    }
   ],
   "source": [
    "legs.pop(0).get(\"duration\")"
   ]
  },
  {
   "cell_type": "markdown",
   "metadata": {},
   "source": [
    "# Distances between multiple cities and optimal route\n",
    "The route doesn't have to be limited to two cities only. Maybe you need to visit several addreses/cities and you're trying to optimize the process. Let's try on an example of exploring all the capitals of the Central Europe. \n",
    "\n",
    "First we will list these capitals. Looking to Wikipedia (https://en.wikipedia.org/wiki/Central_Europe) you will find that Central Europe include 9 countries - Austria, Czech Republic, Germany, Hungary, Liechtenstein, Poland, Slovenia, Slovakia, Switzerland. I've listed their ISO2 codes below. "
   ]
  },
  {
   "cell_type": "code",
   "execution_count": 20,
   "metadata": {
    "ExecuteTime": {
     "end_time": "2020-11-28T22:05:08.638137Z",
     "start_time": "2020-11-28T22:05:08.623176Z"
    }
   },
   "outputs": [],
   "source": [
    "ce_countries = [\"AT\",\"CZ\",\"DE\",\"HU\",\"LI\",\"PL\",\"SK\",\"SI\",\"CH\"]"
   ]
  },
  {
   "cell_type": "code",
   "execution_count": 21,
   "metadata": {
    "ExecuteTime": {
     "end_time": "2020-11-28T22:05:08.654093Z",
     "start_time": "2020-11-28T22:05:08.640131Z"
    }
   },
   "outputs": [
    {
     "data": {
      "text/html": [
       "<div>\n",
       "<style scoped>\n",
       "    .dataframe tbody tr th:only-of-type {\n",
       "        vertical-align: middle;\n",
       "    }\n",
       "\n",
       "    .dataframe tbody tr th {\n",
       "        vertical-align: top;\n",
       "    }\n",
       "\n",
       "    .dataframe thead th {\n",
       "        text-align: right;\n",
       "    }\n",
       "</style>\n",
       "<table border=\"1\" class=\"dataframe\">\n",
       "  <thead>\n",
       "    <tr style=\"text-align: right;\">\n",
       "      <th></th>\n",
       "      <th>Country</th>\n",
       "      <th>capital</th>\n",
       "      <th>lat</th>\n",
       "      <th>lon</th>\n",
       "      <th>code</th>\n",
       "      <th>continent</th>\n",
       "    </tr>\n",
       "  </thead>\n",
       "  <tbody>\n",
       "    <tr>\n",
       "      <th>0</th>\n",
       "      <td>Austria</td>\n",
       "      <td>Vienna</td>\n",
       "      <td>48.200000</td>\n",
       "      <td>16.366667</td>\n",
       "      <td>AT</td>\n",
       "      <td>Europe</td>\n",
       "    </tr>\n",
       "    <tr>\n",
       "      <th>1</th>\n",
       "      <td>Czech Republic</td>\n",
       "      <td>Prague</td>\n",
       "      <td>50.083333</td>\n",
       "      <td>14.466667</td>\n",
       "      <td>CZ</td>\n",
       "      <td>Europe</td>\n",
       "    </tr>\n",
       "    <tr>\n",
       "      <th>2</th>\n",
       "      <td>Germany</td>\n",
       "      <td>Berlin</td>\n",
       "      <td>52.516667</td>\n",
       "      <td>13.400000</td>\n",
       "      <td>DE</td>\n",
       "      <td>Europe</td>\n",
       "    </tr>\n",
       "    <tr>\n",
       "      <th>3</th>\n",
       "      <td>Hungary</td>\n",
       "      <td>Budapest</td>\n",
       "      <td>47.500000</td>\n",
       "      <td>19.083333</td>\n",
       "      <td>HU</td>\n",
       "      <td>Europe</td>\n",
       "    </tr>\n",
       "    <tr>\n",
       "      <th>4</th>\n",
       "      <td>Liechtenstein</td>\n",
       "      <td>Vaduz</td>\n",
       "      <td>47.133333</td>\n",
       "      <td>9.516667</td>\n",
       "      <td>LI</td>\n",
       "      <td>Europe</td>\n",
       "    </tr>\n",
       "    <tr>\n",
       "      <th>5</th>\n",
       "      <td>Poland</td>\n",
       "      <td>Warsaw</td>\n",
       "      <td>52.250000</td>\n",
       "      <td>21.000000</td>\n",
       "      <td>PL</td>\n",
       "      <td>Europe</td>\n",
       "    </tr>\n",
       "    <tr>\n",
       "      <th>6</th>\n",
       "      <td>Slovakia</td>\n",
       "      <td>Bratislava</td>\n",
       "      <td>48.150000</td>\n",
       "      <td>17.116667</td>\n",
       "      <td>SK</td>\n",
       "      <td>Europe</td>\n",
       "    </tr>\n",
       "    <tr>\n",
       "      <th>7</th>\n",
       "      <td>Slovenia</td>\n",
       "      <td>Ljubljana</td>\n",
       "      <td>46.050000</td>\n",
       "      <td>14.516667</td>\n",
       "      <td>SI</td>\n",
       "      <td>Europe</td>\n",
       "    </tr>\n",
       "    <tr>\n",
       "      <th>8</th>\n",
       "      <td>Switzerland</td>\n",
       "      <td>Bern</td>\n",
       "      <td>46.916667</td>\n",
       "      <td>7.466667</td>\n",
       "      <td>CH</td>\n",
       "      <td>Europe</td>\n",
       "    </tr>\n",
       "  </tbody>\n",
       "</table>\n",
       "</div>"
      ],
      "text/plain": [
       "          Country     capital        lat        lon code continent\n",
       "0         Austria      Vienna  48.200000  16.366667   AT    Europe\n",
       "1  Czech Republic      Prague  50.083333  14.466667   CZ    Europe\n",
       "2         Germany      Berlin  52.516667  13.400000   DE    Europe\n",
       "3         Hungary    Budapest  47.500000  19.083333   HU    Europe\n",
       "4   Liechtenstein       Vaduz  47.133333   9.516667   LI    Europe\n",
       "5          Poland      Warsaw  52.250000  21.000000   PL    Europe\n",
       "6        Slovakia  Bratislava  48.150000  17.116667   SK    Europe\n",
       "7        Slovenia   Ljubljana  46.050000  14.516667   SI    Europe\n",
       "8     Switzerland        Bern  46.916667   7.466667   CH    Europe"
      ]
     },
     "execution_count": 21,
     "metadata": {},
     "output_type": "execute_result"
    }
   ],
   "source": [
    "ce_cities = df[df[\"code\"].isin(ce_countries)].reset_index(drop=True)\n",
    "ce_cities"
   ]
  },
  {
   "cell_type": "markdown",
   "metadata": {},
   "source": [
    "Let's wrap the OSRM distance service into a function."
   ]
  },
  {
   "cell_type": "code",
   "execution_count": 22,
   "metadata": {
    "ExecuteTime": {
     "end_time": "2020-11-28T22:05:08.670052Z",
     "start_time": "2020-11-28T22:05:08.656089Z"
    }
   },
   "outputs": [],
   "source": [
    "def get_distance(point1: dict, point2: dict) -> tuple:\n",
    "    \"\"\"Gets distance between two points en route using http://project-osrm.org/docs/v5.10.0/api/#nearest-service\"\"\"\n",
    "    \n",
    "    url = f\"\"\"http://router.project-osrm.org/route/v1/driving/{point1[\"lon\"]},{point1[\"lat\"]};{point2[\"lon\"]},{point2[\"lat\"]}?overview=false&alternatives=false\"\"\"\n",
    "    r = requests.get(url)\n",
    "    \n",
    "    # get the distance from the returned values\n",
    "    route = json.loads(r.content)[\"routes\"][0]\n",
    "    return (route[\"distance\"], route[\"duration\"])"
   ]
  },
  {
   "cell_type": "code",
   "execution_count": 23,
   "metadata": {
    "ExecuteTime": {
     "end_time": "2020-11-28T22:05:08.749878Z",
     "start_time": "2020-11-28T22:05:08.673043Z"
    }
   },
   "outputs": [
    {
     "data": {
      "text/plain": [
       "(347770, 13949.1)"
      ]
     },
     "execution_count": 23,
     "metadata": {},
     "output_type": "execute_result"
    }
   ],
   "source": [
    "# let's try on the first two cities\n",
    "# confirm that it's correct on https://www.openstreetmap.org/directions?engine=fossgis_osrm_car&route=48.208%2C16.372%3B50.087%2C14.421\n",
    "get_distance({\"lat\": 48.200000,\"lon\": 16.366667}, {\"lat\": 50.083333,\"lon\": 14.466667})"
   ]
  },
  {
   "cell_type": "markdown",
   "metadata": {
    "ExecuteTime": {
     "end_time": "2020-11-27T19:22:46.718135Z",
     "start_time": "2020-11-27T19:22:46.709028Z"
    }
   },
   "source": [
    "Now we can run the distance calculation for all the combinations of the cities. There's \n",
    "\\begin{equation*} \n",
    "{9 \\choose 2} \n",
    "\\end{equation*}\n",
    "of combinations."
   ]
  },
  {
   "cell_type": "code",
   "execution_count": 24,
   "metadata": {
    "ExecuteTime": {
     "end_time": "2020-11-28T22:05:08.764805Z",
     "start_time": "2020-11-28T22:05:08.755822Z"
    }
   },
   "outputs": [
    {
     "data": {
      "text/plain": [
       "36"
      ]
     },
     "execution_count": 24,
     "metadata": {},
     "output_type": "execute_result"
    }
   ],
   "source": [
    "# https://stackoverflow.com/questions/464864/how-to-get-all-possible-combinations-of-a-list-s-elements\n",
    "# https://stackoverflow.com/questions/3025162/statistics-combinations-in-python\n",
    "combination = itertools.combinations(list(ce_cities[\"capital\"]),2)\n",
    "len([c for c in itertools.combinations(list(ce_cities[\"capital\"]),2)])"
   ]
  },
  {
   "cell_type": "code",
   "execution_count": 25,
   "metadata": {},
   "outputs": [
    {
     "data": {
      "text/plain": [
       "['Vienna',\n",
       " 'Prague',\n",
       " 'Berlin',\n",
       " 'Budapest',\n",
       " 'Vaduz',\n",
       " 'Warsaw',\n",
       " 'Bratislava',\n",
       " 'Ljubljana',\n",
       " 'Bern']"
      ]
     },
     "execution_count": 25,
     "metadata": {},
     "output_type": "execute_result"
    }
   ],
   "source": [
    "list(ce_cities[\"capital\"])"
   ]
  },
  {
   "cell_type": "code",
   "execution_count": 26,
   "metadata": {
    "ExecuteTime": {
     "end_time": "2020-11-28T22:05:08.779756Z",
     "start_time": "2020-11-28T22:05:08.768787Z"
    }
   },
   "outputs": [
    {
     "data": {
      "text/plain": [
       "36"
      ]
     },
     "execution_count": 26,
     "metadata": {},
     "output_type": "execute_result"
    }
   ],
   "source": [
    "# from python 3.8 you can use math.comb to get just the number. \n",
    "math.comb(9,2)"
   ]
  },
  {
   "cell_type": "markdown",
   "metadata": {
    "ExecuteTime": {
     "end_time": "2020-11-27T19:37:09.133127Z",
     "start_time": "2020-11-27T19:37:09.126150Z"
    }
   },
   "source": [
    "Let's get the distance and duration from OSRM API for all our combinations."
   ]
  },
  {
   "cell_type": "code",
   "execution_count": 27,
   "metadata": {
    "ExecuteTime": {
     "end_time": "2020-11-28T22:05:35.576147Z",
     "start_time": "2020-11-28T22:05:08.782756Z"
    }
   },
   "outputs": [],
   "source": [
    "dist_array = []\n",
    "for i , r in ce_cities.iterrows():\n",
    "    point1 = {\"lat\": r[\"lat\"], \"lon\": r[\"lon\"]}\n",
    "    for j, o in ce_cities[ce_cities.index != i].iterrows():\n",
    "        point2 = {\"lat\": o[\"lat\"], \"lon\": o[\"lon\"]}\n",
    "        dist, duration = get_distance(point1, point2)\n",
    "        #dist = geodesic((i_lat, i_lon), (o[\"CapitalLatitude\"], o[\"CapitalLongitude\"])).km\n",
    "        dist_array.append((i, j, duration, dist))"
   ]
  },
  {
   "cell_type": "code",
   "execution_count": 28,
   "metadata": {
    "ExecuteTime": {
     "end_time": "2020-11-28T22:05:35.607036Z",
     "start_time": "2020-11-28T22:05:35.583100Z"
    }
   },
   "outputs": [
    {
     "data": {
      "text/html": [
       "<div>\n",
       "<style scoped>\n",
       "    .dataframe tbody tr th:only-of-type {\n",
       "        vertical-align: middle;\n",
       "    }\n",
       "\n",
       "    .dataframe tbody tr th {\n",
       "        vertical-align: top;\n",
       "    }\n",
       "\n",
       "    .dataframe thead th {\n",
       "        text-align: right;\n",
       "    }\n",
       "</style>\n",
       "<table border=\"1\" class=\"dataframe\">\n",
       "  <thead>\n",
       "    <tr style=\"text-align: right;\">\n",
       "      <th></th>\n",
       "      <th>origin</th>\n",
       "      <th>destination</th>\n",
       "      <th>duration(s)</th>\n",
       "      <th>distnace(m)</th>\n",
       "    </tr>\n",
       "  </thead>\n",
       "  <tbody>\n",
       "    <tr>\n",
       "      <th>0</th>\n",
       "      <td>0</td>\n",
       "      <td>1</td>\n",
       "      <td>13949.1</td>\n",
       "      <td>347770.0</td>\n",
       "    </tr>\n",
       "    <tr>\n",
       "      <th>1</th>\n",
       "      <td>0</td>\n",
       "      <td>2</td>\n",
       "      <td>27424.4</td>\n",
       "      <td>695795.8</td>\n",
       "    </tr>\n",
       "    <tr>\n",
       "      <th>2</th>\n",
       "      <td>0</td>\n",
       "      <td>3</td>\n",
       "      <td>9661.4</td>\n",
       "      <td>246594.9</td>\n",
       "    </tr>\n",
       "    <tr>\n",
       "      <th>3</th>\n",
       "      <td>0</td>\n",
       "      <td>4</td>\n",
       "      <td>24166.6</td>\n",
       "      <td>647192.9</td>\n",
       "    </tr>\n",
       "    <tr>\n",
       "      <th>4</th>\n",
       "      <td>0</td>\n",
       "      <td>5</td>\n",
       "      <td>29367.0</td>\n",
       "      <td>689921.3</td>\n",
       "    </tr>\n",
       "    <tr>\n",
       "      <th>...</th>\n",
       "      <td>...</td>\n",
       "      <td>...</td>\n",
       "      <td>...</td>\n",
       "      <td>...</td>\n",
       "    </tr>\n",
       "    <tr>\n",
       "      <th>67</th>\n",
       "      <td>8</td>\n",
       "      <td>3</td>\n",
       "      <td>41862.1</td>\n",
       "      <td>1102405.4</td>\n",
       "    </tr>\n",
       "    <tr>\n",
       "      <th>68</th>\n",
       "      <td>8</td>\n",
       "      <td>4</td>\n",
       "      <td>9856.0</td>\n",
       "      <td>235662.0</td>\n",
       "    </tr>\n",
       "    <tr>\n",
       "      <th>69</th>\n",
       "      <td>8</td>\n",
       "      <td>5</td>\n",
       "      <td>52573.8</td>\n",
       "      <td>1503176.5</td>\n",
       "    </tr>\n",
       "    <tr>\n",
       "      <th>70</th>\n",
       "      <td>8</td>\n",
       "      <td>6</td>\n",
       "      <td>35718.7</td>\n",
       "      <td>936757.6</td>\n",
       "    </tr>\n",
       "    <tr>\n",
       "      <th>71</th>\n",
       "      <td>8</td>\n",
       "      <td>7</td>\n",
       "      <td>32803.4</td>\n",
       "      <td>804505.5</td>\n",
       "    </tr>\n",
       "  </tbody>\n",
       "</table>\n",
       "<p>72 rows × 4 columns</p>\n",
       "</div>"
      ],
      "text/plain": [
       "    origin  destination  duration(s)  distnace(m)\n",
       "0        0            1      13949.1     347770.0\n",
       "1        0            2      27424.4     695795.8\n",
       "2        0            3       9661.4     246594.9\n",
       "3        0            4      24166.6     647192.9\n",
       "4        0            5      29367.0     689921.3\n",
       "..     ...          ...          ...          ...\n",
       "67       8            3      41862.1    1102405.4\n",
       "68       8            4       9856.0     235662.0\n",
       "69       8            5      52573.8    1503176.5\n",
       "70       8            6      35718.7     936757.6\n",
       "71       8            7      32803.4     804505.5\n",
       "\n",
       "[72 rows x 4 columns]"
      ]
     },
     "execution_count": 28,
     "metadata": {},
     "output_type": "execute_result"
    }
   ],
   "source": [
    "distances_df = pd.DataFrame(dist_array,columns=[\"origin\",\"destination\",\"duration(s)\",\"distance(m)\"])\n",
    "distances_df"
   ]
  },
  {
   "cell_type": "code",
   "execution_count": 29,
   "metadata": {
    "ExecuteTime": {
     "end_time": "2020-11-28T22:05:35.652943Z",
     "start_time": "2020-11-28T22:05:35.613036Z"
    }
   },
   "outputs": [
    {
     "data": {
      "text/html": [
       "<div>\n",
       "<style scoped>\n",
       "    .dataframe tbody tr th:only-of-type {\n",
       "        vertical-align: middle;\n",
       "    }\n",
       "\n",
       "    .dataframe tbody tr th {\n",
       "        vertical-align: top;\n",
       "    }\n",
       "\n",
       "    .dataframe thead th {\n",
       "        text-align: right;\n",
       "    }\n",
       "</style>\n",
       "<table border=\"1\" class=\"dataframe\">\n",
       "  <thead>\n",
       "    <tr style=\"text-align: right;\">\n",
       "      <th></th>\n",
       "      <th>origin</th>\n",
       "      <th>destination</th>\n",
       "      <th>duration(s)</th>\n",
       "      <th>distnace(m)</th>\n",
       "      <th>origin_name</th>\n",
       "      <th>destination_name</th>\n",
       "    </tr>\n",
       "  </thead>\n",
       "  <tbody>\n",
       "    <tr>\n",
       "      <th>0</th>\n",
       "      <td>0</td>\n",
       "      <td>1</td>\n",
       "      <td>13949.1</td>\n",
       "      <td>347770.0</td>\n",
       "      <td>Vienna</td>\n",
       "      <td>Prague</td>\n",
       "    </tr>\n",
       "    <tr>\n",
       "      <th>17</th>\n",
       "      <td>2</td>\n",
       "      <td>1</td>\n",
       "      <td>13651.1</td>\n",
       "      <td>347924.9</td>\n",
       "      <td>Berlin</td>\n",
       "      <td>Prague</td>\n",
       "    </tr>\n",
       "    <tr>\n",
       "      <th>25</th>\n",
       "      <td>3</td>\n",
       "      <td>1</td>\n",
       "      <td>19597.1</td>\n",
       "      <td>527313.6</td>\n",
       "      <td>Budapest</td>\n",
       "      <td>Prague</td>\n",
       "    </tr>\n",
       "    <tr>\n",
       "      <th>33</th>\n",
       "      <td>4</td>\n",
       "      <td>1</td>\n",
       "      <td>22708.2</td>\n",
       "      <td>619664.1</td>\n",
       "      <td>Vaduz</td>\n",
       "      <td>Prague</td>\n",
       "    </tr>\n",
       "    <tr>\n",
       "      <th>41</th>\n",
       "      <td>5</td>\n",
       "      <td>1</td>\n",
       "      <td>26667.0</td>\n",
       "      <td>673676.6</td>\n",
       "      <td>Warsaw</td>\n",
       "      <td>Prague</td>\n",
       "    </tr>\n",
       "    <tr>\n",
       "      <th>...</th>\n",
       "      <td>...</td>\n",
       "      <td>...</td>\n",
       "      <td>...</td>\n",
       "      <td>...</td>\n",
       "      <td>...</td>\n",
       "      <td>...</td>\n",
       "    </tr>\n",
       "    <tr>\n",
       "      <th>32</th>\n",
       "      <td>4</td>\n",
       "      <td>0</td>\n",
       "      <td>24148.1</td>\n",
       "      <td>646604.5</td>\n",
       "      <td>Vaduz</td>\n",
       "      <td>Vienna</td>\n",
       "    </tr>\n",
       "    <tr>\n",
       "      <th>40</th>\n",
       "      <td>5</td>\n",
       "      <td>0</td>\n",
       "      <td>29492.4</td>\n",
       "      <td>682624.3</td>\n",
       "      <td>Warsaw</td>\n",
       "      <td>Vienna</td>\n",
       "    </tr>\n",
       "    <tr>\n",
       "      <th>48</th>\n",
       "      <td>6</td>\n",
       "      <td>0</td>\n",
       "      <td>3533.1</td>\n",
       "      <td>80739.1</td>\n",
       "      <td>Bratislava</td>\n",
       "      <td>Vienna</td>\n",
       "    </tr>\n",
       "    <tr>\n",
       "      <th>56</th>\n",
       "      <td>7</td>\n",
       "      <td>0</td>\n",
       "      <td>14274.3</td>\n",
       "      <td>374135.9</td>\n",
       "      <td>Ljubljana</td>\n",
       "      <td>Vienna</td>\n",
       "    </tr>\n",
       "    <tr>\n",
       "      <th>64</th>\n",
       "      <td>8</td>\n",
       "      <td>0</td>\n",
       "      <td>32685.3</td>\n",
       "      <td>848610.7</td>\n",
       "      <td>Bern</td>\n",
       "      <td>Vienna</td>\n",
       "    </tr>\n",
       "  </tbody>\n",
       "</table>\n",
       "<p>72 rows × 6 columns</p>\n",
       "</div>"
      ],
      "text/plain": [
       "    origin  destination  duration(s)  distnace(m) origin_name destination_name\n",
       "0        0            1      13949.1     347770.0      Vienna           Prague\n",
       "17       2            1      13651.1     347924.9      Berlin           Prague\n",
       "25       3            1      19597.1     527313.6    Budapest           Prague\n",
       "33       4            1      22708.2     619664.1       Vaduz           Prague\n",
       "41       5            1      26667.0     673676.6      Warsaw           Prague\n",
       "..     ...          ...          ...          ...         ...              ...\n",
       "32       4            0      24148.1     646604.5       Vaduz           Vienna\n",
       "40       5            0      29492.4     682624.3      Warsaw           Vienna\n",
       "48       6            0       3533.1      80739.1  Bratislava           Vienna\n",
       "56       7            0      14274.3     374135.9   Ljubljana           Vienna\n",
       "64       8            0      32685.3     848610.7        Bern           Vienna\n",
       "\n",
       "[72 rows x 6 columns]"
      ]
     },
     "execution_count": 29,
     "metadata": {},
     "output_type": "execute_result"
    }
   ],
   "source": [
    "distances_df = distances_df.merge(ce_cities[[\"capital\"]], left_on = \"origin\", right_index=True).rename(columns={\"capital\":\"origin_name\"})\n",
    "distances_df = distances_df.merge(ce_cities[[\"capital\"]], left_on = \"destination\", right_index=True).rename(columns={\"capital\":\"destination_name\"})\n",
    "distances_df"
   ]
  },
  {
   "cell_type": "markdown",
   "metadata": {
    "ExecuteTime": {
     "end_time": "2020-11-27T19:53:21.205624Z",
     "start_time": "2020-11-27T19:53:19.301370Z"
    }
   },
   "source": [
    "# Travelling Salesperson Problem\n",
    "To find the optimal route between a list of points based on a parameter (e.g. duration or distance between the places) we can use the Travelling Salesperson Problem (https://en.wikipedia.org/wiki/Travelling_salesman_problem). Travelling Sales person wants to visit all the points with the minimal effort. \n",
    "\n",
    "Python implementation is described in the following article. https://towardsdatascience.com/solving-travelling-salesperson-problems-with-python-5de7e883d847. You can also read the documentation of the mlrose package https://mlrose.readthedocs.io/en/stable/source/tutorial2.html.\n"
   ]
  },
  {
   "cell_type": "code",
   "execution_count": 30,
   "metadata": {
    "ExecuteTime": {
     "end_time": "2020-11-28T22:05:35.667872Z",
     "start_time": "2020-11-28T22:05:35.653909Z"
    }
   },
   "outputs": [],
   "source": [
    "# we plan to visit 9 cities\n",
    "length = ce_cities.shape[0]"
   ]
  },
  {
   "cell_type": "markdown",
   "metadata": {},
   "source": [
    "we plan to use the list of distances (durations in our case), that's why we initialize with `distances = dist_list` param. E.g. distance between the `place 0` and `place 1` is `13949.0` second --> `(0,1,13949.0)`"
   ]
  },
  {
   "cell_type": "code",
   "execution_count": 65,
   "metadata": {
    "ExecuteTime": {
     "end_time": "2020-11-28T22:05:35.699788Z",
     "start_time": "2020-11-28T22:05:35.669868Z"
    }
   },
   "outputs": [
    {
     "data": {
      "text/plain": [
       "[(0, 1, 13949.1),\n",
       " (0, 2, 27424.4),\n",
       " (0, 3, 9661.4),\n",
       " (0, 4, 24166.6),\n",
       " (0, 5, 29367.),\n",
       " '...',\n",
       " (8, 3, 41862.1),\n",
       " (8, 4, 9856.),\n",
       " (8, 5, 52573.8),\n",
       " (8, 6, 35718.7),\n",
       " (8, 7, 32803.4)]"
      ]
     },
     "execution_count": 65,
     "metadata": {},
     "output_type": "execute_result"
    }
   ],
   "source": [
    "# turn the first three columns of the dataframe into the list of tuples\n",
    "dist_list = list(distances_df[[\"origin\",\"destination\",\"duration(s)\"]].sort_values(by=[\"origin\",\"destination\"]).to_records(index=False))\n",
    "dist_list[:5] + [\"...\"] + dist_list[-5:]"
   ]
  },
  {
   "cell_type": "code",
   "execution_count": 32,
   "metadata": {
    "ExecuteTime": {
     "end_time": "2020-11-28T22:05:35.715744Z",
     "start_time": "2020-11-28T22:05:35.701782Z"
    }
   },
   "outputs": [],
   "source": [
    "# we plan to use the list of distances (durations in our case), that's why we initialize with `distances = dist_list` param.\n",
    "fitness_dists = mlrose.TravellingSales(distances = dist_array)"
   ]
  },
  {
   "cell_type": "code",
   "execution_count": 33,
   "metadata": {
    "ExecuteTime": {
     "end_time": "2020-11-28T22:05:35.731702Z",
     "start_time": "2020-11-28T22:05:35.717740Z"
    }
   },
   "outputs": [],
   "source": [
    "problem_fit = mlrose.TSPOpt(length = length, fitness_fn = fitness_dists,\n",
    "                            maximize=False)"
   ]
  },
  {
   "cell_type": "code",
   "execution_count": 34,
   "metadata": {
    "ExecuteTime": {
     "end_time": "2020-11-28T22:05:36.287216Z",
     "start_time": "2020-11-28T22:05:35.733696Z"
    }
   },
   "outputs": [
    {
     "data": {
      "text/plain": [
       "(array([5, 2, 1, 6, 3, 7, 4, 8, 0]), 168798.30000000002)"
      ]
     },
     "execution_count": 34,
     "metadata": {},
     "output_type": "execute_result"
    }
   ],
   "source": [
    "mlrose.genetic_alg(problem_fit, random_state = 2)"
   ]
  },
  {
   "cell_type": "code",
   "execution_count": 35,
   "metadata": {
    "ExecuteTime": {
     "end_time": "2020-11-28T22:05:36.795536Z",
     "start_time": "2020-11-28T22:05:36.288123Z"
    }
   },
   "outputs": [],
   "source": [
    "# Solve problem using the genetic algorithm - suboptimal solution\n",
    "best_state, best_fitness = mlrose.genetic_alg(problem_fit, random_state = 2)"
   ]
  },
  {
   "cell_type": "code",
   "execution_count": 36,
   "metadata": {
    "ExecuteTime": {
     "end_time": "2020-11-28T22:05:36.810757Z",
     "start_time": "2020-11-28T22:05:36.797331Z"
    }
   },
   "outputs": [
    {
     "name": "stdout",
     "output_type": "stream",
     "text": [
      "The best state found is: [5 2 1 6 3 7 4 8 0], taking 168798.30000000002 (1 day, 22:53:18.300000)\n"
     ]
    }
   ],
   "source": [
    "print(f\"The best state found is: {best_state}, taking {best_fitness} ({str(datetime.timedelta(seconds=best_fitness))})\")"
   ]
  },
  {
   "cell_type": "code",
   "execution_count": 37,
   "metadata": {
    "ExecuteTime": {
     "end_time": "2020-11-28T22:06:29.554931Z",
     "start_time": "2020-11-28T22:05:36.811707Z"
    }
   },
   "outputs": [],
   "source": [
    "# better but more resource intensive solutions\n",
    "best_state, best_fitness = mlrose.genetic_alg(problem_fit, mutation_prob = 0.2,  max_attempts = 500, random_state = 2)"
   ]
  },
  {
   "cell_type": "code",
   "execution_count": 38,
   "metadata": {
    "ExecuteTime": {
     "end_time": "2020-11-28T22:06:29.570917Z",
     "start_time": "2020-11-28T22:06:29.557969Z"
    }
   },
   "outputs": [
    {
     "name": "stdout",
     "output_type": "stream",
     "text": [
      "The best state found is: [1 8 4 7 3 6 0 5 2], taking 157397.0 (1 day, 19:43:17)\n"
     ]
    }
   ],
   "source": [
    "print(f\"The best state found is: {best_state}, taking {best_fitness} ({str(datetime.timedelta(seconds=best_fitness))})\")"
   ]
  },
  {
   "cell_type": "markdown",
   "metadata": {},
   "source": [
    "The `best_state` contains the order of the places to visit. Let's map it to our list of cities to see, the order in which we can to visit them."
   ]
  },
  {
   "cell_type": "code",
   "execution_count": 39,
   "metadata": {
    "ExecuteTime": {
     "end_time": "2020-11-28T22:06:29.602881Z",
     "start_time": "2020-11-28T22:06:29.576884Z"
    }
   },
   "outputs": [
    {
     "data": {
      "text/plain": [
       "{1: 0, 8: 1, 4: 2, 7: 3, 3: 4, 6: 5, 0: 6, 5: 7, 2: 8}"
      ]
     },
     "execution_count": 39,
     "metadata": {},
     "output_type": "execute_result"
    }
   ],
   "source": [
    "orders = {city: order for order, city in enumerate(best_state)}\n",
    "orders"
   ]
  },
  {
   "cell_type": "code",
   "execution_count": 40,
   "metadata": {
    "ExecuteTime": {
     "end_time": "2020-11-28T22:06:29.649739Z",
     "start_time": "2020-11-28T22:06:29.612784Z"
    }
   },
   "outputs": [
    {
     "data": {
      "text/html": [
       "<div>\n",
       "<style scoped>\n",
       "    .dataframe tbody tr th:only-of-type {\n",
       "        vertical-align: middle;\n",
       "    }\n",
       "\n",
       "    .dataframe tbody tr th {\n",
       "        vertical-align: top;\n",
       "    }\n",
       "\n",
       "    .dataframe thead th {\n",
       "        text-align: right;\n",
       "    }\n",
       "</style>\n",
       "<table border=\"1\" class=\"dataframe\">\n",
       "  <thead>\n",
       "    <tr style=\"text-align: right;\">\n",
       "      <th></th>\n",
       "      <th>Country</th>\n",
       "      <th>capital</th>\n",
       "      <th>lat</th>\n",
       "      <th>lon</th>\n",
       "      <th>code</th>\n",
       "      <th>continent</th>\n",
       "      <th>order</th>\n",
       "    </tr>\n",
       "  </thead>\n",
       "  <tbody>\n",
       "    <tr>\n",
       "      <th>1</th>\n",
       "      <td>Czech Republic</td>\n",
       "      <td>Prague</td>\n",
       "      <td>50.083333</td>\n",
       "      <td>14.466667</td>\n",
       "      <td>CZ</td>\n",
       "      <td>Europe</td>\n",
       "      <td>0</td>\n",
       "    </tr>\n",
       "    <tr>\n",
       "      <th>8</th>\n",
       "      <td>Switzerland</td>\n",
       "      <td>Bern</td>\n",
       "      <td>46.916667</td>\n",
       "      <td>7.466667</td>\n",
       "      <td>CH</td>\n",
       "      <td>Europe</td>\n",
       "      <td>1</td>\n",
       "    </tr>\n",
       "    <tr>\n",
       "      <th>4</th>\n",
       "      <td>Liechtenstein</td>\n",
       "      <td>Vaduz</td>\n",
       "      <td>47.133333</td>\n",
       "      <td>9.516667</td>\n",
       "      <td>LI</td>\n",
       "      <td>Europe</td>\n",
       "      <td>2</td>\n",
       "    </tr>\n",
       "    <tr>\n",
       "      <th>7</th>\n",
       "      <td>Slovenia</td>\n",
       "      <td>Ljubljana</td>\n",
       "      <td>46.050000</td>\n",
       "      <td>14.516667</td>\n",
       "      <td>SI</td>\n",
       "      <td>Europe</td>\n",
       "      <td>3</td>\n",
       "    </tr>\n",
       "    <tr>\n",
       "      <th>3</th>\n",
       "      <td>Hungary</td>\n",
       "      <td>Budapest</td>\n",
       "      <td>47.500000</td>\n",
       "      <td>19.083333</td>\n",
       "      <td>HU</td>\n",
       "      <td>Europe</td>\n",
       "      <td>4</td>\n",
       "    </tr>\n",
       "    <tr>\n",
       "      <th>6</th>\n",
       "      <td>Slovakia</td>\n",
       "      <td>Bratislava</td>\n",
       "      <td>48.150000</td>\n",
       "      <td>17.116667</td>\n",
       "      <td>SK</td>\n",
       "      <td>Europe</td>\n",
       "      <td>5</td>\n",
       "    </tr>\n",
       "    <tr>\n",
       "      <th>0</th>\n",
       "      <td>Austria</td>\n",
       "      <td>Vienna</td>\n",
       "      <td>48.200000</td>\n",
       "      <td>16.366667</td>\n",
       "      <td>AT</td>\n",
       "      <td>Europe</td>\n",
       "      <td>6</td>\n",
       "    </tr>\n",
       "    <tr>\n",
       "      <th>5</th>\n",
       "      <td>Poland</td>\n",
       "      <td>Warsaw</td>\n",
       "      <td>52.250000</td>\n",
       "      <td>21.000000</td>\n",
       "      <td>PL</td>\n",
       "      <td>Europe</td>\n",
       "      <td>7</td>\n",
       "    </tr>\n",
       "    <tr>\n",
       "      <th>2</th>\n",
       "      <td>Germany</td>\n",
       "      <td>Berlin</td>\n",
       "      <td>52.516667</td>\n",
       "      <td>13.400000</td>\n",
       "      <td>DE</td>\n",
       "      <td>Europe</td>\n",
       "      <td>8</td>\n",
       "    </tr>\n",
       "  </tbody>\n",
       "</table>\n",
       "</div>"
      ],
      "text/plain": [
       "          Country     capital        lat        lon code continent  order\n",
       "1  Czech Republic      Prague  50.083333  14.466667   CZ    Europe      0\n",
       "8     Switzerland        Bern  46.916667   7.466667   CH    Europe      1\n",
       "4   Liechtenstein       Vaduz  47.133333   9.516667   LI    Europe      2\n",
       "7        Slovenia   Ljubljana  46.050000  14.516667   SI    Europe      3\n",
       "3         Hungary    Budapest  47.500000  19.083333   HU    Europe      4\n",
       "6        Slovakia  Bratislava  48.150000  17.116667   SK    Europe      5\n",
       "0         Austria      Vienna  48.200000  16.366667   AT    Europe      6\n",
       "5          Poland      Warsaw  52.250000  21.000000   PL    Europe      7\n",
       "2         Germany      Berlin  52.516667  13.400000   DE    Europe      8"
      ]
     },
     "execution_count": 40,
     "metadata": {},
     "output_type": "execute_result"
    }
   ],
   "source": [
    "ce_cities[\"order\"] = ce_cities.index.map(orders)\n",
    "ce_cities = ce_cities.sort_values(by=\"order\")\n",
    "ce_cities"
   ]
  },
  {
   "cell_type": "markdown",
   "metadata": {
    "ExecuteTime": {
     "end_time": "2020-11-27T20:52:24.150431Z",
     "start_time": "2020-11-27T20:52:24.139432Z"
    }
   },
   "source": [
    "Let's confirm that the distance is really the `best_fitness`. Based on the order we will add the `next_city` column and specially handle the last city which is followed by the city with order == 0 (or the minimum order)."
   ]
  },
  {
   "cell_type": "code",
   "execution_count": 41,
   "metadata": {
    "ExecuteTime": {
     "end_time": "2020-11-28T22:06:29.680656Z",
     "start_time": "2020-11-28T22:06:29.652736Z"
    }
   },
   "outputs": [
    {
     "data": {
      "text/html": [
       "<div>\n",
       "<style scoped>\n",
       "    .dataframe tbody tr th:only-of-type {\n",
       "        vertical-align: middle;\n",
       "    }\n",
       "\n",
       "    .dataframe tbody tr th {\n",
       "        vertical-align: top;\n",
       "    }\n",
       "\n",
       "    .dataframe thead th {\n",
       "        text-align: right;\n",
       "    }\n",
       "</style>\n",
       "<table border=\"1\" class=\"dataframe\">\n",
       "  <thead>\n",
       "    <tr style=\"text-align: right;\">\n",
       "      <th></th>\n",
       "      <th>Country</th>\n",
       "      <th>capital</th>\n",
       "      <th>lat</th>\n",
       "      <th>lon</th>\n",
       "      <th>code</th>\n",
       "      <th>continent</th>\n",
       "      <th>order</th>\n",
       "      <th>next_city</th>\n",
       "    </tr>\n",
       "  </thead>\n",
       "  <tbody>\n",
       "    <tr>\n",
       "      <th>1</th>\n",
       "      <td>Czech Republic</td>\n",
       "      <td>Prague</td>\n",
       "      <td>50.083333</td>\n",
       "      <td>14.466667</td>\n",
       "      <td>CZ</td>\n",
       "      <td>Europe</td>\n",
       "      <td>0</td>\n",
       "      <td>Bern</td>\n",
       "    </tr>\n",
       "    <tr>\n",
       "      <th>8</th>\n",
       "      <td>Switzerland</td>\n",
       "      <td>Bern</td>\n",
       "      <td>46.916667</td>\n",
       "      <td>7.466667</td>\n",
       "      <td>CH</td>\n",
       "      <td>Europe</td>\n",
       "      <td>1</td>\n",
       "      <td>Vaduz</td>\n",
       "    </tr>\n",
       "    <tr>\n",
       "      <th>4</th>\n",
       "      <td>Liechtenstein</td>\n",
       "      <td>Vaduz</td>\n",
       "      <td>47.133333</td>\n",
       "      <td>9.516667</td>\n",
       "      <td>LI</td>\n",
       "      <td>Europe</td>\n",
       "      <td>2</td>\n",
       "      <td>Ljubljana</td>\n",
       "    </tr>\n",
       "    <tr>\n",
       "      <th>7</th>\n",
       "      <td>Slovenia</td>\n",
       "      <td>Ljubljana</td>\n",
       "      <td>46.050000</td>\n",
       "      <td>14.516667</td>\n",
       "      <td>SI</td>\n",
       "      <td>Europe</td>\n",
       "      <td>3</td>\n",
       "      <td>Budapest</td>\n",
       "    </tr>\n",
       "    <tr>\n",
       "      <th>3</th>\n",
       "      <td>Hungary</td>\n",
       "      <td>Budapest</td>\n",
       "      <td>47.500000</td>\n",
       "      <td>19.083333</td>\n",
       "      <td>HU</td>\n",
       "      <td>Europe</td>\n",
       "      <td>4</td>\n",
       "      <td>Bratislava</td>\n",
       "    </tr>\n",
       "    <tr>\n",
       "      <th>6</th>\n",
       "      <td>Slovakia</td>\n",
       "      <td>Bratislava</td>\n",
       "      <td>48.150000</td>\n",
       "      <td>17.116667</td>\n",
       "      <td>SK</td>\n",
       "      <td>Europe</td>\n",
       "      <td>5</td>\n",
       "      <td>Vienna</td>\n",
       "    </tr>\n",
       "    <tr>\n",
       "      <th>0</th>\n",
       "      <td>Austria</td>\n",
       "      <td>Vienna</td>\n",
       "      <td>48.200000</td>\n",
       "      <td>16.366667</td>\n",
       "      <td>AT</td>\n",
       "      <td>Europe</td>\n",
       "      <td>6</td>\n",
       "      <td>Warsaw</td>\n",
       "    </tr>\n",
       "    <tr>\n",
       "      <th>5</th>\n",
       "      <td>Poland</td>\n",
       "      <td>Warsaw</td>\n",
       "      <td>52.250000</td>\n",
       "      <td>21.000000</td>\n",
       "      <td>PL</td>\n",
       "      <td>Europe</td>\n",
       "      <td>7</td>\n",
       "      <td>Berlin</td>\n",
       "    </tr>\n",
       "    <tr>\n",
       "      <th>2</th>\n",
       "      <td>Germany</td>\n",
       "      <td>Berlin</td>\n",
       "      <td>52.516667</td>\n",
       "      <td>13.400000</td>\n",
       "      <td>DE</td>\n",
       "      <td>Europe</td>\n",
       "      <td>8</td>\n",
       "      <td>Prague</td>\n",
       "    </tr>\n",
       "  </tbody>\n",
       "</table>\n",
       "</div>"
      ],
      "text/plain": [
       "          Country     capital        lat        lon code continent  order  \\\n",
       "1  Czech Republic      Prague  50.083333  14.466667   CZ    Europe      0   \n",
       "8     Switzerland        Bern  46.916667   7.466667   CH    Europe      1   \n",
       "4   Liechtenstein       Vaduz  47.133333   9.516667   LI    Europe      2   \n",
       "7        Slovenia   Ljubljana  46.050000  14.516667   SI    Europe      3   \n",
       "3         Hungary    Budapest  47.500000  19.083333   HU    Europe      4   \n",
       "6        Slovakia  Bratislava  48.150000  17.116667   SK    Europe      5   \n",
       "0         Austria      Vienna  48.200000  16.366667   AT    Europe      6   \n",
       "5          Poland      Warsaw  52.250000  21.000000   PL    Europe      7   \n",
       "2         Germany      Berlin  52.516667  13.400000   DE    Europe      8   \n",
       "\n",
       "    next_city  \n",
       "1        Bern  \n",
       "8       Vaduz  \n",
       "4   Ljubljana  \n",
       "7    Budapest  \n",
       "3  Bratislava  \n",
       "6      Vienna  \n",
       "0      Warsaw  \n",
       "5      Berlin  \n",
       "2      Prague  "
      ]
     },
     "execution_count": 41,
     "metadata": {},
     "output_type": "execute_result"
    }
   ],
   "source": [
    "ce_cities[\"next_city\"] = ce_cities[\"capital\"].shift(-1)\n",
    "\n",
    "# the last connection is between the last city and the first one\n",
    "ce_cities.loc[ce_cities[\"order\"] == max(ce_cities[\"order\"]), \"next_city\"] = ce_cities.loc[ce_cities[\"order\"] == min(ce_cities[\"order\"]), \"capital\"].values[0]\n",
    "ce_cities"
   ]
  },
  {
   "cell_type": "markdown",
   "metadata": {},
   "source": [
    "Then we join the distances in seconds from `distance_df`"
   ]
  },
  {
   "cell_type": "code",
   "execution_count": 42,
   "metadata": {
    "ExecuteTime": {
     "end_time": "2020-11-28T22:06:29.695800Z",
     "start_time": "2020-11-28T22:06:29.681653Z"
    }
   },
   "outputs": [],
   "source": [
    "ordered_ce_cities = ce_cities.merge(distances_df[[\"origin_name\",\"destination_name\",\"duration(s)\"]], left_on=[\"capital\",\"next_city\"], right_on=[\"origin_name\",\"destination_name\"], how=\"left\")"
   ]
  },
  {
   "cell_type": "code",
   "execution_count": 43,
   "metadata": {
    "ExecuteTime": {
     "end_time": "2020-11-28T22:06:29.710762Z",
     "start_time": "2020-11-28T22:06:29.696799Z"
    }
   },
   "outputs": [
    {
     "data": {
      "text/html": [
       "<div>\n",
       "<style scoped>\n",
       "    .dataframe tbody tr th:only-of-type {\n",
       "        vertical-align: middle;\n",
       "    }\n",
       "\n",
       "    .dataframe tbody tr th {\n",
       "        vertical-align: top;\n",
       "    }\n",
       "\n",
       "    .dataframe thead th {\n",
       "        text-align: right;\n",
       "    }\n",
       "</style>\n",
       "<table border=\"1\" class=\"dataframe\">\n",
       "  <thead>\n",
       "    <tr style=\"text-align: right;\">\n",
       "      <th></th>\n",
       "      <th>Country</th>\n",
       "      <th>capital</th>\n",
       "      <th>lat</th>\n",
       "      <th>lon</th>\n",
       "      <th>code</th>\n",
       "      <th>continent</th>\n",
       "      <th>order</th>\n",
       "      <th>next_city</th>\n",
       "      <th>origin_name</th>\n",
       "      <th>destination_name</th>\n",
       "      <th>duration(s)</th>\n",
       "    </tr>\n",
       "  </thead>\n",
       "  <tbody>\n",
       "    <tr>\n",
       "      <th>0</th>\n",
       "      <td>Czech Republic</td>\n",
       "      <td>Prague</td>\n",
       "      <td>50.083333</td>\n",
       "      <td>14.466667</td>\n",
       "      <td>CZ</td>\n",
       "      <td>Europe</td>\n",
       "      <td>0</td>\n",
       "      <td>Bern</td>\n",
       "      <td>Prague</td>\n",
       "      <td>Bern</td>\n",
       "      <td>30022.3</td>\n",
       "    </tr>\n",
       "    <tr>\n",
       "      <th>1</th>\n",
       "      <td>Switzerland</td>\n",
       "      <td>Bern</td>\n",
       "      <td>46.916667</td>\n",
       "      <td>7.466667</td>\n",
       "      <td>CH</td>\n",
       "      <td>Europe</td>\n",
       "      <td>1</td>\n",
       "      <td>Vaduz</td>\n",
       "      <td>Bern</td>\n",
       "      <td>Vaduz</td>\n",
       "      <td>9856.0</td>\n",
       "    </tr>\n",
       "    <tr>\n",
       "      <th>2</th>\n",
       "      <td>Liechtenstein</td>\n",
       "      <td>Vaduz</td>\n",
       "      <td>47.133333</td>\n",
       "      <td>9.516667</td>\n",
       "      <td>LI</td>\n",
       "      <td>Europe</td>\n",
       "      <td>2</td>\n",
       "      <td>Ljubljana</td>\n",
       "      <td>Vaduz</td>\n",
       "      <td>Ljubljana</td>\n",
       "      <td>24837.6</td>\n",
       "    </tr>\n",
       "    <tr>\n",
       "      <th>3</th>\n",
       "      <td>Slovenia</td>\n",
       "      <td>Ljubljana</td>\n",
       "      <td>46.050000</td>\n",
       "      <td>14.516667</td>\n",
       "      <td>SI</td>\n",
       "      <td>Europe</td>\n",
       "      <td>3</td>\n",
       "      <td>Budapest</td>\n",
       "      <td>Ljubljana</td>\n",
       "      <td>Budapest</td>\n",
       "      <td>17635.7</td>\n",
       "    </tr>\n",
       "    <tr>\n",
       "      <th>4</th>\n",
       "      <td>Hungary</td>\n",
       "      <td>Budapest</td>\n",
       "      <td>47.500000</td>\n",
       "      <td>19.083333</td>\n",
       "      <td>HU</td>\n",
       "      <td>Europe</td>\n",
       "      <td>4</td>\n",
       "      <td>Bratislava</td>\n",
       "      <td>Budapest</td>\n",
       "      <td>Bratislava</td>\n",
       "      <td>7881.1</td>\n",
       "    </tr>\n",
       "    <tr>\n",
       "      <th>5</th>\n",
       "      <td>Slovakia</td>\n",
       "      <td>Bratislava</td>\n",
       "      <td>48.150000</td>\n",
       "      <td>17.116667</td>\n",
       "      <td>SK</td>\n",
       "      <td>Europe</td>\n",
       "      <td>5</td>\n",
       "      <td>Vienna</td>\n",
       "      <td>Bratislava</td>\n",
       "      <td>Vienna</td>\n",
       "      <td>3533.1</td>\n",
       "    </tr>\n",
       "    <tr>\n",
       "      <th>6</th>\n",
       "      <td>Austria</td>\n",
       "      <td>Vienna</td>\n",
       "      <td>48.200000</td>\n",
       "      <td>16.366667</td>\n",
       "      <td>AT</td>\n",
       "      <td>Europe</td>\n",
       "      <td>6</td>\n",
       "      <td>Warsaw</td>\n",
       "      <td>Vienna</td>\n",
       "      <td>Warsaw</td>\n",
       "      <td>29367.0</td>\n",
       "    </tr>\n",
       "    <tr>\n",
       "      <th>7</th>\n",
       "      <td>Poland</td>\n",
       "      <td>Warsaw</td>\n",
       "      <td>52.250000</td>\n",
       "      <td>21.000000</td>\n",
       "      <td>PL</td>\n",
       "      <td>Europe</td>\n",
       "      <td>7</td>\n",
       "      <td>Berlin</td>\n",
       "      <td>Warsaw</td>\n",
       "      <td>Berlin</td>\n",
       "      <td>20528.8</td>\n",
       "    </tr>\n",
       "    <tr>\n",
       "      <th>8</th>\n",
       "      <td>Germany</td>\n",
       "      <td>Berlin</td>\n",
       "      <td>52.516667</td>\n",
       "      <td>13.400000</td>\n",
       "      <td>DE</td>\n",
       "      <td>Europe</td>\n",
       "      <td>8</td>\n",
       "      <td>Prague</td>\n",
       "      <td>Berlin</td>\n",
       "      <td>Prague</td>\n",
       "      <td>13651.1</td>\n",
       "    </tr>\n",
       "  </tbody>\n",
       "</table>\n",
       "</div>"
      ],
      "text/plain": [
       "          Country     capital        lat        lon code continent  order  \\\n",
       "0  Czech Republic      Prague  50.083333  14.466667   CZ    Europe      0   \n",
       "1     Switzerland        Bern  46.916667   7.466667   CH    Europe      1   \n",
       "2   Liechtenstein       Vaduz  47.133333   9.516667   LI    Europe      2   \n",
       "3        Slovenia   Ljubljana  46.050000  14.516667   SI    Europe      3   \n",
       "4         Hungary    Budapest  47.500000  19.083333   HU    Europe      4   \n",
       "5        Slovakia  Bratislava  48.150000  17.116667   SK    Europe      5   \n",
       "6         Austria      Vienna  48.200000  16.366667   AT    Europe      6   \n",
       "7          Poland      Warsaw  52.250000  21.000000   PL    Europe      7   \n",
       "8         Germany      Berlin  52.516667  13.400000   DE    Europe      8   \n",
       "\n",
       "    next_city origin_name destination_name  duration(s)  \n",
       "0        Bern      Prague             Bern      30022.3  \n",
       "1       Vaduz        Bern            Vaduz       9856.0  \n",
       "2   Ljubljana       Vaduz        Ljubljana      24837.6  \n",
       "3    Budapest   Ljubljana         Budapest      17635.7  \n",
       "4  Bratislava    Budapest       Bratislava       7881.1  \n",
       "5      Vienna  Bratislava           Vienna       3533.1  \n",
       "6      Warsaw      Vienna           Warsaw      29367.0  \n",
       "7      Berlin      Warsaw           Berlin      20528.8  \n",
       "8      Prague      Berlin           Prague      13651.1  "
      ]
     },
     "execution_count": 43,
     "metadata": {},
     "output_type": "execute_result"
    }
   ],
   "source": [
    "ordered_ce_cities"
   ]
  },
  {
   "cell_type": "markdown",
   "metadata": {
    "ExecuteTime": {
     "end_time": "2020-11-27T21:07:29.108268Z",
     "start_time": "2020-11-27T21:07:29.095306Z"
    }
   },
   "source": [
    "Let's check that the total of this distance is really, what Travelling Salesman Problem identified as the `best_fitness`"
   ]
  },
  {
   "cell_type": "code",
   "execution_count": 44,
   "metadata": {
    "ExecuteTime": {
     "end_time": "2020-11-28T22:06:29.726721Z",
     "start_time": "2020-11-28T22:06:29.712757Z"
    }
   },
   "outputs": [
    {
     "data": {
      "text/plain": [
       "157312.7"
      ]
     },
     "execution_count": 44,
     "metadata": {},
     "output_type": "execute_result"
    }
   ],
   "source": [
    "ordered_ce_cities[\"duration(s)\"].sum()"
   ]
  },
  {
   "cell_type": "markdown",
   "metadata": {
    "ExecuteTime": {
     "end_time": "2020-11-27T21:11:11.391405Z",
     "start_time": "2020-11-27T21:11:11.377409Z"
    }
   },
   "source": [
    "Since the route is a cyclical you can start at any of the capitals. To get the minimal travel time, you should end in the city which is followed by the longest duration. "
   ]
  },
  {
   "cell_type": "code",
   "execution_count": 45,
   "metadata": {
    "ExecuteTime": {
     "end_time": "2020-11-28T22:06:29.742713Z",
     "start_time": "2020-11-28T22:06:29.731708Z"
    }
   },
   "outputs": [
    {
     "data": {
      "text/plain": [
       "30022.3"
      ]
     },
     "execution_count": 45,
     "metadata": {},
     "output_type": "execute_result"
    }
   ],
   "source": [
    "ordered_ce_cities[\"duration(s)\"].max()"
   ]
  },
  {
   "cell_type": "code",
   "execution_count": 46,
   "metadata": {
    "ExecuteTime": {
     "end_time": "2020-11-28T22:08:58.531709Z",
     "start_time": "2020-11-28T22:08:58.513758Z"
    }
   },
   "outputs": [
    {
     "data": {
      "text/html": [
       "<style  type=\"text/css\" >\n",
       "#T_e695a556_3740_11eb_b7f8_85d86bdd239frow0_col10{\n",
       "            background-color:  lightgreen;\n",
       "        }</style><table id=\"T_e695a556_3740_11eb_b7f8_85d86bdd239f\" ><thead>    <tr>        <th class=\"blank level0\" ></th>        <th class=\"col_heading level0 col0\" >Country</th>        <th class=\"col_heading level0 col1\" >capital</th>        <th class=\"col_heading level0 col2\" >lat</th>        <th class=\"col_heading level0 col3\" >lon</th>        <th class=\"col_heading level0 col4\" >code</th>        <th class=\"col_heading level0 col5\" >continent</th>        <th class=\"col_heading level0 col6\" >order</th>        <th class=\"col_heading level0 col7\" >next_city</th>        <th class=\"col_heading level0 col8\" >origin_name</th>        <th class=\"col_heading level0 col9\" >destination_name</th>        <th class=\"col_heading level0 col10\" >duration(s)</th>    </tr></thead><tbody>\n",
       "                <tr>\n",
       "                        <th id=\"T_e695a556_3740_11eb_b7f8_85d86bdd239flevel0_row0\" class=\"row_heading level0 row0\" >0</th>\n",
       "                        <td id=\"T_e695a556_3740_11eb_b7f8_85d86bdd239frow0_col0\" class=\"data row0 col0\" >Czech Republic</td>\n",
       "                        <td id=\"T_e695a556_3740_11eb_b7f8_85d86bdd239frow0_col1\" class=\"data row0 col1\" >Prague</td>\n",
       "                        <td id=\"T_e695a556_3740_11eb_b7f8_85d86bdd239frow0_col2\" class=\"data row0 col2\" >50.083333</td>\n",
       "                        <td id=\"T_e695a556_3740_11eb_b7f8_85d86bdd239frow0_col3\" class=\"data row0 col3\" >14.466667</td>\n",
       "                        <td id=\"T_e695a556_3740_11eb_b7f8_85d86bdd239frow0_col4\" class=\"data row0 col4\" >CZ</td>\n",
       "                        <td id=\"T_e695a556_3740_11eb_b7f8_85d86bdd239frow0_col5\" class=\"data row0 col5\" >Europe</td>\n",
       "                        <td id=\"T_e695a556_3740_11eb_b7f8_85d86bdd239frow0_col6\" class=\"data row0 col6\" >0</td>\n",
       "                        <td id=\"T_e695a556_3740_11eb_b7f8_85d86bdd239frow0_col7\" class=\"data row0 col7\" >Bern</td>\n",
       "                        <td id=\"T_e695a556_3740_11eb_b7f8_85d86bdd239frow0_col8\" class=\"data row0 col8\" >Prague</td>\n",
       "                        <td id=\"T_e695a556_3740_11eb_b7f8_85d86bdd239frow0_col9\" class=\"data row0 col9\" >Bern</td>\n",
       "                        <td id=\"T_e695a556_3740_11eb_b7f8_85d86bdd239frow0_col10\" class=\"data row0 col10\" >30022.300000</td>\n",
       "            </tr>\n",
       "            <tr>\n",
       "                        <th id=\"T_e695a556_3740_11eb_b7f8_85d86bdd239flevel0_row1\" class=\"row_heading level0 row1\" >1</th>\n",
       "                        <td id=\"T_e695a556_3740_11eb_b7f8_85d86bdd239frow1_col0\" class=\"data row1 col0\" >Switzerland</td>\n",
       "                        <td id=\"T_e695a556_3740_11eb_b7f8_85d86bdd239frow1_col1\" class=\"data row1 col1\" >Bern</td>\n",
       "                        <td id=\"T_e695a556_3740_11eb_b7f8_85d86bdd239frow1_col2\" class=\"data row1 col2\" >46.916667</td>\n",
       "                        <td id=\"T_e695a556_3740_11eb_b7f8_85d86bdd239frow1_col3\" class=\"data row1 col3\" >7.466667</td>\n",
       "                        <td id=\"T_e695a556_3740_11eb_b7f8_85d86bdd239frow1_col4\" class=\"data row1 col4\" >CH</td>\n",
       "                        <td id=\"T_e695a556_3740_11eb_b7f8_85d86bdd239frow1_col5\" class=\"data row1 col5\" >Europe</td>\n",
       "                        <td id=\"T_e695a556_3740_11eb_b7f8_85d86bdd239frow1_col6\" class=\"data row1 col6\" >1</td>\n",
       "                        <td id=\"T_e695a556_3740_11eb_b7f8_85d86bdd239frow1_col7\" class=\"data row1 col7\" >Vaduz</td>\n",
       "                        <td id=\"T_e695a556_3740_11eb_b7f8_85d86bdd239frow1_col8\" class=\"data row1 col8\" >Bern</td>\n",
       "                        <td id=\"T_e695a556_3740_11eb_b7f8_85d86bdd239frow1_col9\" class=\"data row1 col9\" >Vaduz</td>\n",
       "                        <td id=\"T_e695a556_3740_11eb_b7f8_85d86bdd239frow1_col10\" class=\"data row1 col10\" >9856.000000</td>\n",
       "            </tr>\n",
       "            <tr>\n",
       "                        <th id=\"T_e695a556_3740_11eb_b7f8_85d86bdd239flevel0_row2\" class=\"row_heading level0 row2\" >2</th>\n",
       "                        <td id=\"T_e695a556_3740_11eb_b7f8_85d86bdd239frow2_col0\" class=\"data row2 col0\" >Liechtenstein</td>\n",
       "                        <td id=\"T_e695a556_3740_11eb_b7f8_85d86bdd239frow2_col1\" class=\"data row2 col1\" >Vaduz</td>\n",
       "                        <td id=\"T_e695a556_3740_11eb_b7f8_85d86bdd239frow2_col2\" class=\"data row2 col2\" >47.133333</td>\n",
       "                        <td id=\"T_e695a556_3740_11eb_b7f8_85d86bdd239frow2_col3\" class=\"data row2 col3\" >9.516667</td>\n",
       "                        <td id=\"T_e695a556_3740_11eb_b7f8_85d86bdd239frow2_col4\" class=\"data row2 col4\" >LI</td>\n",
       "                        <td id=\"T_e695a556_3740_11eb_b7f8_85d86bdd239frow2_col5\" class=\"data row2 col5\" >Europe</td>\n",
       "                        <td id=\"T_e695a556_3740_11eb_b7f8_85d86bdd239frow2_col6\" class=\"data row2 col6\" >2</td>\n",
       "                        <td id=\"T_e695a556_3740_11eb_b7f8_85d86bdd239frow2_col7\" class=\"data row2 col7\" >Ljubljana</td>\n",
       "                        <td id=\"T_e695a556_3740_11eb_b7f8_85d86bdd239frow2_col8\" class=\"data row2 col8\" >Vaduz</td>\n",
       "                        <td id=\"T_e695a556_3740_11eb_b7f8_85d86bdd239frow2_col9\" class=\"data row2 col9\" >Ljubljana</td>\n",
       "                        <td id=\"T_e695a556_3740_11eb_b7f8_85d86bdd239frow2_col10\" class=\"data row2 col10\" >24837.600000</td>\n",
       "            </tr>\n",
       "            <tr>\n",
       "                        <th id=\"T_e695a556_3740_11eb_b7f8_85d86bdd239flevel0_row3\" class=\"row_heading level0 row3\" >3</th>\n",
       "                        <td id=\"T_e695a556_3740_11eb_b7f8_85d86bdd239frow3_col0\" class=\"data row3 col0\" >Slovenia</td>\n",
       "                        <td id=\"T_e695a556_3740_11eb_b7f8_85d86bdd239frow3_col1\" class=\"data row3 col1\" >Ljubljana</td>\n",
       "                        <td id=\"T_e695a556_3740_11eb_b7f8_85d86bdd239frow3_col2\" class=\"data row3 col2\" >46.050000</td>\n",
       "                        <td id=\"T_e695a556_3740_11eb_b7f8_85d86bdd239frow3_col3\" class=\"data row3 col3\" >14.516667</td>\n",
       "                        <td id=\"T_e695a556_3740_11eb_b7f8_85d86bdd239frow3_col4\" class=\"data row3 col4\" >SI</td>\n",
       "                        <td id=\"T_e695a556_3740_11eb_b7f8_85d86bdd239frow3_col5\" class=\"data row3 col5\" >Europe</td>\n",
       "                        <td id=\"T_e695a556_3740_11eb_b7f8_85d86bdd239frow3_col6\" class=\"data row3 col6\" >3</td>\n",
       "                        <td id=\"T_e695a556_3740_11eb_b7f8_85d86bdd239frow3_col7\" class=\"data row3 col7\" >Budapest</td>\n",
       "                        <td id=\"T_e695a556_3740_11eb_b7f8_85d86bdd239frow3_col8\" class=\"data row3 col8\" >Ljubljana</td>\n",
       "                        <td id=\"T_e695a556_3740_11eb_b7f8_85d86bdd239frow3_col9\" class=\"data row3 col9\" >Budapest</td>\n",
       "                        <td id=\"T_e695a556_3740_11eb_b7f8_85d86bdd239frow3_col10\" class=\"data row3 col10\" >17635.700000</td>\n",
       "            </tr>\n",
       "            <tr>\n",
       "                        <th id=\"T_e695a556_3740_11eb_b7f8_85d86bdd239flevel0_row4\" class=\"row_heading level0 row4\" >4</th>\n",
       "                        <td id=\"T_e695a556_3740_11eb_b7f8_85d86bdd239frow4_col0\" class=\"data row4 col0\" >Hungary</td>\n",
       "                        <td id=\"T_e695a556_3740_11eb_b7f8_85d86bdd239frow4_col1\" class=\"data row4 col1\" >Budapest</td>\n",
       "                        <td id=\"T_e695a556_3740_11eb_b7f8_85d86bdd239frow4_col2\" class=\"data row4 col2\" >47.500000</td>\n",
       "                        <td id=\"T_e695a556_3740_11eb_b7f8_85d86bdd239frow4_col3\" class=\"data row4 col3\" >19.083333</td>\n",
       "                        <td id=\"T_e695a556_3740_11eb_b7f8_85d86bdd239frow4_col4\" class=\"data row4 col4\" >HU</td>\n",
       "                        <td id=\"T_e695a556_3740_11eb_b7f8_85d86bdd239frow4_col5\" class=\"data row4 col5\" >Europe</td>\n",
       "                        <td id=\"T_e695a556_3740_11eb_b7f8_85d86bdd239frow4_col6\" class=\"data row4 col6\" >4</td>\n",
       "                        <td id=\"T_e695a556_3740_11eb_b7f8_85d86bdd239frow4_col7\" class=\"data row4 col7\" >Bratislava</td>\n",
       "                        <td id=\"T_e695a556_3740_11eb_b7f8_85d86bdd239frow4_col8\" class=\"data row4 col8\" >Budapest</td>\n",
       "                        <td id=\"T_e695a556_3740_11eb_b7f8_85d86bdd239frow4_col9\" class=\"data row4 col9\" >Bratislava</td>\n",
       "                        <td id=\"T_e695a556_3740_11eb_b7f8_85d86bdd239frow4_col10\" class=\"data row4 col10\" >7881.100000</td>\n",
       "            </tr>\n",
       "            <tr>\n",
       "                        <th id=\"T_e695a556_3740_11eb_b7f8_85d86bdd239flevel0_row5\" class=\"row_heading level0 row5\" >5</th>\n",
       "                        <td id=\"T_e695a556_3740_11eb_b7f8_85d86bdd239frow5_col0\" class=\"data row5 col0\" >Slovakia</td>\n",
       "                        <td id=\"T_e695a556_3740_11eb_b7f8_85d86bdd239frow5_col1\" class=\"data row5 col1\" >Bratislava</td>\n",
       "                        <td id=\"T_e695a556_3740_11eb_b7f8_85d86bdd239frow5_col2\" class=\"data row5 col2\" >48.150000</td>\n",
       "                        <td id=\"T_e695a556_3740_11eb_b7f8_85d86bdd239frow5_col3\" class=\"data row5 col3\" >17.116667</td>\n",
       "                        <td id=\"T_e695a556_3740_11eb_b7f8_85d86bdd239frow5_col4\" class=\"data row5 col4\" >SK</td>\n",
       "                        <td id=\"T_e695a556_3740_11eb_b7f8_85d86bdd239frow5_col5\" class=\"data row5 col5\" >Europe</td>\n",
       "                        <td id=\"T_e695a556_3740_11eb_b7f8_85d86bdd239frow5_col6\" class=\"data row5 col6\" >5</td>\n",
       "                        <td id=\"T_e695a556_3740_11eb_b7f8_85d86bdd239frow5_col7\" class=\"data row5 col7\" >Vienna</td>\n",
       "                        <td id=\"T_e695a556_3740_11eb_b7f8_85d86bdd239frow5_col8\" class=\"data row5 col8\" >Bratislava</td>\n",
       "                        <td id=\"T_e695a556_3740_11eb_b7f8_85d86bdd239frow5_col9\" class=\"data row5 col9\" >Vienna</td>\n",
       "                        <td id=\"T_e695a556_3740_11eb_b7f8_85d86bdd239frow5_col10\" class=\"data row5 col10\" >3533.100000</td>\n",
       "            </tr>\n",
       "            <tr>\n",
       "                        <th id=\"T_e695a556_3740_11eb_b7f8_85d86bdd239flevel0_row6\" class=\"row_heading level0 row6\" >6</th>\n",
       "                        <td id=\"T_e695a556_3740_11eb_b7f8_85d86bdd239frow6_col0\" class=\"data row6 col0\" >Austria</td>\n",
       "                        <td id=\"T_e695a556_3740_11eb_b7f8_85d86bdd239frow6_col1\" class=\"data row6 col1\" >Vienna</td>\n",
       "                        <td id=\"T_e695a556_3740_11eb_b7f8_85d86bdd239frow6_col2\" class=\"data row6 col2\" >48.200000</td>\n",
       "                        <td id=\"T_e695a556_3740_11eb_b7f8_85d86bdd239frow6_col3\" class=\"data row6 col3\" >16.366667</td>\n",
       "                        <td id=\"T_e695a556_3740_11eb_b7f8_85d86bdd239frow6_col4\" class=\"data row6 col4\" >AT</td>\n",
       "                        <td id=\"T_e695a556_3740_11eb_b7f8_85d86bdd239frow6_col5\" class=\"data row6 col5\" >Europe</td>\n",
       "                        <td id=\"T_e695a556_3740_11eb_b7f8_85d86bdd239frow6_col6\" class=\"data row6 col6\" >6</td>\n",
       "                        <td id=\"T_e695a556_3740_11eb_b7f8_85d86bdd239frow6_col7\" class=\"data row6 col7\" >Warsaw</td>\n",
       "                        <td id=\"T_e695a556_3740_11eb_b7f8_85d86bdd239frow6_col8\" class=\"data row6 col8\" >Vienna</td>\n",
       "                        <td id=\"T_e695a556_3740_11eb_b7f8_85d86bdd239frow6_col9\" class=\"data row6 col9\" >Warsaw</td>\n",
       "                        <td id=\"T_e695a556_3740_11eb_b7f8_85d86bdd239frow6_col10\" class=\"data row6 col10\" >29367.000000</td>\n",
       "            </tr>\n",
       "            <tr>\n",
       "                        <th id=\"T_e695a556_3740_11eb_b7f8_85d86bdd239flevel0_row7\" class=\"row_heading level0 row7\" >7</th>\n",
       "                        <td id=\"T_e695a556_3740_11eb_b7f8_85d86bdd239frow7_col0\" class=\"data row7 col0\" >Poland</td>\n",
       "                        <td id=\"T_e695a556_3740_11eb_b7f8_85d86bdd239frow7_col1\" class=\"data row7 col1\" >Warsaw</td>\n",
       "                        <td id=\"T_e695a556_3740_11eb_b7f8_85d86bdd239frow7_col2\" class=\"data row7 col2\" >52.250000</td>\n",
       "                        <td id=\"T_e695a556_3740_11eb_b7f8_85d86bdd239frow7_col3\" class=\"data row7 col3\" >21.000000</td>\n",
       "                        <td id=\"T_e695a556_3740_11eb_b7f8_85d86bdd239frow7_col4\" class=\"data row7 col4\" >PL</td>\n",
       "                        <td id=\"T_e695a556_3740_11eb_b7f8_85d86bdd239frow7_col5\" class=\"data row7 col5\" >Europe</td>\n",
       "                        <td id=\"T_e695a556_3740_11eb_b7f8_85d86bdd239frow7_col6\" class=\"data row7 col6\" >7</td>\n",
       "                        <td id=\"T_e695a556_3740_11eb_b7f8_85d86bdd239frow7_col7\" class=\"data row7 col7\" >Berlin</td>\n",
       "                        <td id=\"T_e695a556_3740_11eb_b7f8_85d86bdd239frow7_col8\" class=\"data row7 col8\" >Warsaw</td>\n",
       "                        <td id=\"T_e695a556_3740_11eb_b7f8_85d86bdd239frow7_col9\" class=\"data row7 col9\" >Berlin</td>\n",
       "                        <td id=\"T_e695a556_3740_11eb_b7f8_85d86bdd239frow7_col10\" class=\"data row7 col10\" >20528.800000</td>\n",
       "            </tr>\n",
       "            <tr>\n",
       "                        <th id=\"T_e695a556_3740_11eb_b7f8_85d86bdd239flevel0_row8\" class=\"row_heading level0 row8\" >8</th>\n",
       "                        <td id=\"T_e695a556_3740_11eb_b7f8_85d86bdd239frow8_col0\" class=\"data row8 col0\" >Germany</td>\n",
       "                        <td id=\"T_e695a556_3740_11eb_b7f8_85d86bdd239frow8_col1\" class=\"data row8 col1\" >Berlin</td>\n",
       "                        <td id=\"T_e695a556_3740_11eb_b7f8_85d86bdd239frow8_col2\" class=\"data row8 col2\" >52.516667</td>\n",
       "                        <td id=\"T_e695a556_3740_11eb_b7f8_85d86bdd239frow8_col3\" class=\"data row8 col3\" >13.400000</td>\n",
       "                        <td id=\"T_e695a556_3740_11eb_b7f8_85d86bdd239frow8_col4\" class=\"data row8 col4\" >DE</td>\n",
       "                        <td id=\"T_e695a556_3740_11eb_b7f8_85d86bdd239frow8_col5\" class=\"data row8 col5\" >Europe</td>\n",
       "                        <td id=\"T_e695a556_3740_11eb_b7f8_85d86bdd239frow8_col6\" class=\"data row8 col6\" >8</td>\n",
       "                        <td id=\"T_e695a556_3740_11eb_b7f8_85d86bdd239frow8_col7\" class=\"data row8 col7\" >Prague</td>\n",
       "                        <td id=\"T_e695a556_3740_11eb_b7f8_85d86bdd239frow8_col8\" class=\"data row8 col8\" >Berlin</td>\n",
       "                        <td id=\"T_e695a556_3740_11eb_b7f8_85d86bdd239frow8_col9\" class=\"data row8 col9\" >Prague</td>\n",
       "                        <td id=\"T_e695a556_3740_11eb_b7f8_85d86bdd239frow8_col10\" class=\"data row8 col10\" >13651.100000</td>\n",
       "            </tr>\n",
       "    </tbody></table>"
      ],
      "text/plain": [
       "<pandas.io.formats.style.Styler at 0x7fd48bbd24c0>"
      ]
     },
     "execution_count": 46,
     "metadata": {},
     "output_type": "execute_result"
    }
   ],
   "source": [
    "ordered_ce_cities.style.highlight_max(color = 'lightgreen', axis = 0, subset=\"duration(s)\")"
   ]
  },
  {
   "cell_type": "markdown",
   "metadata": {},
   "source": [
    "As you can see, in our case, if you can start in Bern and end in Ljublana, the distance would be the smallest."
   ]
  },
  {
   "cell_type": "code",
   "execution_count": 47,
   "metadata": {
    "ExecuteTime": {
     "end_time": "2020-11-28T22:08:30.868770Z",
     "start_time": "2020-11-28T22:08:30.858830Z"
    }
   },
   "outputs": [
    {
     "data": {
      "text/plain": [
       "(127290.40000000001, '1 day, 11:21:30.400000')"
      ]
     },
     "execution_count": 47,
     "metadata": {},
     "output_type": "execute_result"
    }
   ],
   "source": [
    "duration_s = ordered_ce_cities[\"duration(s)\"].sum() - ordered_ce_cities[\"duration(s)\"].max()\n",
    "duration_s, str(datetime.timedelta(seconds=duration_s))"
   ]
  },
  {
   "cell_type": "markdown",
   "metadata": {
    "ExecuteTime": {
     "end_time": "2020-11-27T21:18:52.686379Z",
     "start_time": "2020-11-27T21:18:52.673412Z"
    }
   },
   "source": [
    "# Confirm that this is really the shorted possible route"
   ]
  },
  {
   "cell_type": "code",
   "execution_count": 48,
   "metadata": {
    "ExecuteTime": {
     "end_time": "2020-11-28T22:06:29.993967Z",
     "start_time": "2020-11-28T22:06:29.978764Z"
    }
   },
   "outputs": [],
   "source": [
    "l = [0,1,2,3,4,5,6,7,8]"
   ]
  },
  {
   "cell_type": "code",
   "execution_count": 49,
   "metadata": {
    "ExecuteTime": {
     "end_time": "2020-11-28T22:10:26.426261Z",
     "start_time": "2020-11-28T22:10:26.410302Z"
    }
   },
   "outputs": [
    {
     "data": {
      "text/plain": [
       "19958400.0"
      ]
     },
     "execution_count": 49,
     "metadata": {},
     "output_type": "execute_result"
    }
   ],
   "source": [
    "# There's possible (n)!/2 combinations; 1/2 because path 1-2-3 is the same as 3-2-1\n",
    "math.factorial(length+2)/2"
   ]
  },
  {
   "cell_type": "markdown",
   "metadata": {
    "ExecuteTime": {
     "end_time": "2020-11-28T21:44:36.185177Z",
     "start_time": "2020-11-28T21:44:36.181188Z"
    }
   },
   "source": [
    "Let's generate all the possible paths"
   ]
  },
  {
   "cell_type": "code",
   "execution_count": 50,
   "metadata": {
    "ExecuteTime": {
     "end_time": "2020-11-28T22:06:30.071939Z",
     "start_time": "2020-11-28T22:06:30.010174Z"
    }
   },
   "outputs": [
    {
     "data": {
      "text/plain": [
       "362880"
      ]
     },
     "execution_count": 50,
     "metadata": {},
     "output_type": "execute_result"
    }
   ],
   "source": [
    "perm = [l for l in itertools.permutations(range(9), 9)]\n",
    "len(perm)"
   ]
  },
  {
   "cell_type": "code",
   "execution_count": 62,
   "metadata": {
    "ExecuteTime": {
     "end_time": "2020-11-28T22:06:30.087911Z",
     "start_time": "2020-11-28T22:06:30.073062Z"
    }
   },
   "outputs": [
    {
     "data": {
      "text/plain": [
       "[(0, 1, 2, 3, 4, 5, 6, 7, 8),\n",
       " (0, 1, 2, 3, 4, 5, 6, 8, 7),\n",
       " (0, 1, 2, 3, 4, 5, 7, 6, 8),\n",
       " (0, 1, 2, 3, 4, 5, 7, 8, 6),\n",
       " (0, 1, 2, 3, 4, 5, 8, 6, 7)]"
      ]
     },
     "execution_count": 62,
     "metadata": {},
     "output_type": "execute_result"
    }
   ],
   "source": [
    "perm[:5]"
   ]
  },
  {
   "cell_type": "code",
   "execution_count": 52,
   "metadata": {
    "ExecuteTime": {
     "end_time": "2020-11-28T22:06:30.103120Z",
     "start_time": "2020-11-28T22:06:30.088682Z"
    }
   },
   "outputs": [
    {
     "data": {
      "text/plain": [
       "13949.1"
      ]
     },
     "execution_count": 52,
     "metadata": {},
     "output_type": "execute_result"
    }
   ],
   "source": [
    "distances = {(int(d[0]), int(d[1])):d[2] for d in distances_df[[\"origin\",\"destination\",\"duration(s)\"]].values.tolist()}\n",
    "distances[(0,1)]"
   ]
  },
  {
   "cell_type": "code",
   "execution_count": 53,
   "metadata": {
    "ExecuteTime": {
     "end_time": "2020-11-28T22:06:30.117938Z",
     "start_time": "2020-11-28T22:06:30.103969Z"
    }
   },
   "outputs": [
    {
     "name": "stdout",
     "output_type": "stream",
     "text": [
      "(0, 1) 13949.1\n",
      "(1, 2) 13629.7\n",
      "(2, 3) 33078.6\n",
      "(3, 4) 33392.4\n",
      "(4, 5) 45307.4\n",
      "(5, 6) 27916.9\n",
      "(6, 7) 16742.8\n",
      "(7, 8) 32762.8\n",
      "(8, 0) 32685.3\n",
      "249464.99999999997\n"
     ]
    },
    {
     "data": {
      "text/plain": [
       "249464.99999999997"
      ]
     },
     "execution_count": 53,
     "metadata": {},
     "output_type": "execute_result"
    }
   ],
   "source": [
    "# pick the first path\n",
    "path = perm[0]\n",
    "\n",
    "# add th first element to conclude the circular path\n",
    "path = path + (path[0],)\n",
    "\n",
    "# iterate through the path and sum all the distances\n",
    "total_path_distance = 0\n",
    "for i in range(len(path)-1):\n",
    "    edge = (path[i], path[i+1])\n",
    "    total_path_distance += distances[edge]\n",
    "    print(edge, distances[edge])\n",
    "print(total_path_distance)\n",
    "\n",
    "# list comprehension\n",
    "sum([distances[(path[i],path[i+1])] for i in range(len(path)-1)])"
   ]
  },
  {
   "cell_type": "code",
   "execution_count": 54,
   "metadata": {
    "ExecuteTime": {
     "end_time": "2020-11-28T22:06:31.064417Z",
     "start_time": "2020-11-28T22:06:30.127909Z"
    }
   },
   "outputs": [
    {
     "name": "stdout",
     "output_type": "stream",
     "text": [
      "157312.7 9 [(0, 5, 2, 1, 8, 4, 7, 3, 6, 0), (1, 8, 4, 7, 3, 6, 0, 5, 2, 1), (2, 1, 8, 4, 7, 3, 6, 0, 5, 2), (3, 6, 0, 5, 2, 1, 8, 4, 7, 3), (4, 7, 3, 6, 0, 5, 2, 1, 8, 4), (5, 2, 1, 8, 4, 7, 3, 6, 0, 5), (6, 0, 5, 2, 1, 8, 4, 7, 3, 6), (7, 3, 6, 0, 5, 2, 1, 8, 4, 7), (8, 4, 7, 3, 6, 0, 5, 2, 1, 8)]\n"
     ]
    }
   ],
   "source": [
    "mn = np.inf\n",
    "min_paths = []\n",
    "\n",
    "for p in perm:\n",
    "    \n",
    "    # add th first element to conclude the circular path\n",
    "    p = p + (p[0],)\n",
    "    \n",
    "    total_path_distance = sum([distances[(p[i],p[i+1])] for i in range(len(path)-1)])\n",
    "    \n",
    "    if total_path_distance < mn:\n",
    "        mn = total_path_distance\n",
    "        min_paths = [p]\n",
    "    elif total_path_distance == mn:\n",
    "        min_paths.append(p)\n",
    "    else:\n",
    "        pass\n",
    "    \n",
    "print(mn, len(min_paths), min_paths)"
   ]
  },
  {
   "cell_type": "code",
   "execution_count": 55,
   "metadata": {
    "ExecuteTime": {
     "end_time": "2020-11-28T22:06:31.080062Z",
     "start_time": "2020-11-28T22:06:31.065380Z"
    }
   },
   "outputs": [],
   "source": [
    "def path_to_df(path, cities, distances_df):\n",
    "    orders = {city: order for order, city in enumerate(path[0])}\n",
    "    \n",
    "    cities[\"order\"] = cities.index.map(orders)\n",
    "    cities = cities.sort_values(by=\"order\")\n",
    "    \n",
    "    cities[\"next_city\"] = cities[\"capital\"].shift(-1)\n",
    "    cities[\"prev_city\"] = cities[\"capital\"].shift(1)\n",
    "\n",
    "    # the last connection is between the last city and the first one\n",
    "    cities.loc[cities[\"order\"] == max(cities[\"order\"]), \"next_city\"] = cities.loc[cities[\"order\"] == min(cities[\"order\"]), \"capital\"].values[0]\n",
    "    cities.loc[cities[\"order\"] == min(cities[\"order\"]), \"prev_city\"] = cities.loc[cities[\"order\"] == max(cities[\"order\"]), \"capital\"].values[0]\n",
    "    \n",
    "    ordered_ce_cities = cities.merge(distances_df[[\"origin_name\",\"destination_name\",\"duration(s)\"]], left_on=[\"capital\",\"next_city\"], right_on=[\"origin_name\",\"destination_name\"], how=\"left\")\n",
    "    \n",
    "    return ordered_ce_cities[\"duration(s)\"].sum(), ordered_ce_cities"
   ]
  },
  {
   "cell_type": "code",
   "execution_count": 56,
   "metadata": {
    "ExecuteTime": {
     "end_time": "2020-11-28T22:12:47.699374Z",
     "start_time": "2020-11-28T22:12:47.664468Z"
    }
   },
   "outputs": [
    {
     "data": {
      "text/html": [
       "<style  type=\"text/css\" >\n",
       "#T_e695a557_3740_11eb_b7f8_85d86bdd239frow2_col11{\n",
       "            background-color:  lightgreen;\n",
       "        }</style><table id=\"T_e695a557_3740_11eb_b7f8_85d86bdd239f\" ><thead>    <tr>        <th class=\"blank level0\" ></th>        <th class=\"col_heading level0 col0\" >Country</th>        <th class=\"col_heading level0 col1\" >capital</th>        <th class=\"col_heading level0 col2\" >lat</th>        <th class=\"col_heading level0 col3\" >lon</th>        <th class=\"col_heading level0 col4\" >code</th>        <th class=\"col_heading level0 col5\" >continent</th>        <th class=\"col_heading level0 col6\" >order</th>        <th class=\"col_heading level0 col7\" >next_city</th>        <th class=\"col_heading level0 col8\" >prev_city</th>        <th class=\"col_heading level0 col9\" >origin_name</th>        <th class=\"col_heading level0 col10\" >destination_name</th>        <th class=\"col_heading level0 col11\" >duration(s)</th>    </tr></thead><tbody>\n",
       "                <tr>\n",
       "                        <th id=\"T_e695a557_3740_11eb_b7f8_85d86bdd239flevel0_row0\" class=\"row_heading level0 row0\" >0</th>\n",
       "                        <td id=\"T_e695a557_3740_11eb_b7f8_85d86bdd239frow0_col0\" class=\"data row0 col0\" >Poland</td>\n",
       "                        <td id=\"T_e695a557_3740_11eb_b7f8_85d86bdd239frow0_col1\" class=\"data row0 col1\" >Warsaw</td>\n",
       "                        <td id=\"T_e695a557_3740_11eb_b7f8_85d86bdd239frow0_col2\" class=\"data row0 col2\" >52.250000</td>\n",
       "                        <td id=\"T_e695a557_3740_11eb_b7f8_85d86bdd239frow0_col3\" class=\"data row0 col3\" >21.000000</td>\n",
       "                        <td id=\"T_e695a557_3740_11eb_b7f8_85d86bdd239frow0_col4\" class=\"data row0 col4\" >PL</td>\n",
       "                        <td id=\"T_e695a557_3740_11eb_b7f8_85d86bdd239frow0_col5\" class=\"data row0 col5\" >Europe</td>\n",
       "                        <td id=\"T_e695a557_3740_11eb_b7f8_85d86bdd239frow0_col6\" class=\"data row0 col6\" >1</td>\n",
       "                        <td id=\"T_e695a557_3740_11eb_b7f8_85d86bdd239frow0_col7\" class=\"data row0 col7\" >Berlin</td>\n",
       "                        <td id=\"T_e695a557_3740_11eb_b7f8_85d86bdd239frow0_col8\" class=\"data row0 col8\" >Vienna</td>\n",
       "                        <td id=\"T_e695a557_3740_11eb_b7f8_85d86bdd239frow0_col9\" class=\"data row0 col9\" >Warsaw</td>\n",
       "                        <td id=\"T_e695a557_3740_11eb_b7f8_85d86bdd239frow0_col10\" class=\"data row0 col10\" >Berlin</td>\n",
       "                        <td id=\"T_e695a557_3740_11eb_b7f8_85d86bdd239frow0_col11\" class=\"data row0 col11\" >20528.800000</td>\n",
       "            </tr>\n",
       "            <tr>\n",
       "                        <th id=\"T_e695a557_3740_11eb_b7f8_85d86bdd239flevel0_row1\" class=\"row_heading level0 row1\" >1</th>\n",
       "                        <td id=\"T_e695a557_3740_11eb_b7f8_85d86bdd239frow1_col0\" class=\"data row1 col0\" >Germany</td>\n",
       "                        <td id=\"T_e695a557_3740_11eb_b7f8_85d86bdd239frow1_col1\" class=\"data row1 col1\" >Berlin</td>\n",
       "                        <td id=\"T_e695a557_3740_11eb_b7f8_85d86bdd239frow1_col2\" class=\"data row1 col2\" >52.516667</td>\n",
       "                        <td id=\"T_e695a557_3740_11eb_b7f8_85d86bdd239frow1_col3\" class=\"data row1 col3\" >13.400000</td>\n",
       "                        <td id=\"T_e695a557_3740_11eb_b7f8_85d86bdd239frow1_col4\" class=\"data row1 col4\" >DE</td>\n",
       "                        <td id=\"T_e695a557_3740_11eb_b7f8_85d86bdd239frow1_col5\" class=\"data row1 col5\" >Europe</td>\n",
       "                        <td id=\"T_e695a557_3740_11eb_b7f8_85d86bdd239frow1_col6\" class=\"data row1 col6\" >2</td>\n",
       "                        <td id=\"T_e695a557_3740_11eb_b7f8_85d86bdd239frow1_col7\" class=\"data row1 col7\" >Prague</td>\n",
       "                        <td id=\"T_e695a557_3740_11eb_b7f8_85d86bdd239frow1_col8\" class=\"data row1 col8\" >Warsaw</td>\n",
       "                        <td id=\"T_e695a557_3740_11eb_b7f8_85d86bdd239frow1_col9\" class=\"data row1 col9\" >Berlin</td>\n",
       "                        <td id=\"T_e695a557_3740_11eb_b7f8_85d86bdd239frow1_col10\" class=\"data row1 col10\" >Prague</td>\n",
       "                        <td id=\"T_e695a557_3740_11eb_b7f8_85d86bdd239frow1_col11\" class=\"data row1 col11\" >13651.100000</td>\n",
       "            </tr>\n",
       "            <tr>\n",
       "                        <th id=\"T_e695a557_3740_11eb_b7f8_85d86bdd239flevel0_row2\" class=\"row_heading level0 row2\" >2</th>\n",
       "                        <td id=\"T_e695a557_3740_11eb_b7f8_85d86bdd239frow2_col0\" class=\"data row2 col0\" >Czech Republic</td>\n",
       "                        <td id=\"T_e695a557_3740_11eb_b7f8_85d86bdd239frow2_col1\" class=\"data row2 col1\" >Prague</td>\n",
       "                        <td id=\"T_e695a557_3740_11eb_b7f8_85d86bdd239frow2_col2\" class=\"data row2 col2\" >50.083333</td>\n",
       "                        <td id=\"T_e695a557_3740_11eb_b7f8_85d86bdd239frow2_col3\" class=\"data row2 col3\" >14.466667</td>\n",
       "                        <td id=\"T_e695a557_3740_11eb_b7f8_85d86bdd239frow2_col4\" class=\"data row2 col4\" >CZ</td>\n",
       "                        <td id=\"T_e695a557_3740_11eb_b7f8_85d86bdd239frow2_col5\" class=\"data row2 col5\" >Europe</td>\n",
       "                        <td id=\"T_e695a557_3740_11eb_b7f8_85d86bdd239frow2_col6\" class=\"data row2 col6\" >3</td>\n",
       "                        <td id=\"T_e695a557_3740_11eb_b7f8_85d86bdd239frow2_col7\" class=\"data row2 col7\" >Bern</td>\n",
       "                        <td id=\"T_e695a557_3740_11eb_b7f8_85d86bdd239frow2_col8\" class=\"data row2 col8\" >Berlin</td>\n",
       "                        <td id=\"T_e695a557_3740_11eb_b7f8_85d86bdd239frow2_col9\" class=\"data row2 col9\" >Prague</td>\n",
       "                        <td id=\"T_e695a557_3740_11eb_b7f8_85d86bdd239frow2_col10\" class=\"data row2 col10\" >Bern</td>\n",
       "                        <td id=\"T_e695a557_3740_11eb_b7f8_85d86bdd239frow2_col11\" class=\"data row2 col11\" >30022.300000</td>\n",
       "            </tr>\n",
       "            <tr>\n",
       "                        <th id=\"T_e695a557_3740_11eb_b7f8_85d86bdd239flevel0_row3\" class=\"row_heading level0 row3\" >3</th>\n",
       "                        <td id=\"T_e695a557_3740_11eb_b7f8_85d86bdd239frow3_col0\" class=\"data row3 col0\" >Switzerland</td>\n",
       "                        <td id=\"T_e695a557_3740_11eb_b7f8_85d86bdd239frow3_col1\" class=\"data row3 col1\" >Bern</td>\n",
       "                        <td id=\"T_e695a557_3740_11eb_b7f8_85d86bdd239frow3_col2\" class=\"data row3 col2\" >46.916667</td>\n",
       "                        <td id=\"T_e695a557_3740_11eb_b7f8_85d86bdd239frow3_col3\" class=\"data row3 col3\" >7.466667</td>\n",
       "                        <td id=\"T_e695a557_3740_11eb_b7f8_85d86bdd239frow3_col4\" class=\"data row3 col4\" >CH</td>\n",
       "                        <td id=\"T_e695a557_3740_11eb_b7f8_85d86bdd239frow3_col5\" class=\"data row3 col5\" >Europe</td>\n",
       "                        <td id=\"T_e695a557_3740_11eb_b7f8_85d86bdd239frow3_col6\" class=\"data row3 col6\" >4</td>\n",
       "                        <td id=\"T_e695a557_3740_11eb_b7f8_85d86bdd239frow3_col7\" class=\"data row3 col7\" >Vaduz</td>\n",
       "                        <td id=\"T_e695a557_3740_11eb_b7f8_85d86bdd239frow3_col8\" class=\"data row3 col8\" >Prague</td>\n",
       "                        <td id=\"T_e695a557_3740_11eb_b7f8_85d86bdd239frow3_col9\" class=\"data row3 col9\" >Bern</td>\n",
       "                        <td id=\"T_e695a557_3740_11eb_b7f8_85d86bdd239frow3_col10\" class=\"data row3 col10\" >Vaduz</td>\n",
       "                        <td id=\"T_e695a557_3740_11eb_b7f8_85d86bdd239frow3_col11\" class=\"data row3 col11\" >9856.000000</td>\n",
       "            </tr>\n",
       "            <tr>\n",
       "                        <th id=\"T_e695a557_3740_11eb_b7f8_85d86bdd239flevel0_row4\" class=\"row_heading level0 row4\" >4</th>\n",
       "                        <td id=\"T_e695a557_3740_11eb_b7f8_85d86bdd239frow4_col0\" class=\"data row4 col0\" >Liechtenstein</td>\n",
       "                        <td id=\"T_e695a557_3740_11eb_b7f8_85d86bdd239frow4_col1\" class=\"data row4 col1\" >Vaduz</td>\n",
       "                        <td id=\"T_e695a557_3740_11eb_b7f8_85d86bdd239frow4_col2\" class=\"data row4 col2\" >47.133333</td>\n",
       "                        <td id=\"T_e695a557_3740_11eb_b7f8_85d86bdd239frow4_col3\" class=\"data row4 col3\" >9.516667</td>\n",
       "                        <td id=\"T_e695a557_3740_11eb_b7f8_85d86bdd239frow4_col4\" class=\"data row4 col4\" >LI</td>\n",
       "                        <td id=\"T_e695a557_3740_11eb_b7f8_85d86bdd239frow4_col5\" class=\"data row4 col5\" >Europe</td>\n",
       "                        <td id=\"T_e695a557_3740_11eb_b7f8_85d86bdd239frow4_col6\" class=\"data row4 col6\" >5</td>\n",
       "                        <td id=\"T_e695a557_3740_11eb_b7f8_85d86bdd239frow4_col7\" class=\"data row4 col7\" >Ljubljana</td>\n",
       "                        <td id=\"T_e695a557_3740_11eb_b7f8_85d86bdd239frow4_col8\" class=\"data row4 col8\" >Bern</td>\n",
       "                        <td id=\"T_e695a557_3740_11eb_b7f8_85d86bdd239frow4_col9\" class=\"data row4 col9\" >Vaduz</td>\n",
       "                        <td id=\"T_e695a557_3740_11eb_b7f8_85d86bdd239frow4_col10\" class=\"data row4 col10\" >Ljubljana</td>\n",
       "                        <td id=\"T_e695a557_3740_11eb_b7f8_85d86bdd239frow4_col11\" class=\"data row4 col11\" >24837.600000</td>\n",
       "            </tr>\n",
       "            <tr>\n",
       "                        <th id=\"T_e695a557_3740_11eb_b7f8_85d86bdd239flevel0_row5\" class=\"row_heading level0 row5\" >5</th>\n",
       "                        <td id=\"T_e695a557_3740_11eb_b7f8_85d86bdd239frow5_col0\" class=\"data row5 col0\" >Slovenia</td>\n",
       "                        <td id=\"T_e695a557_3740_11eb_b7f8_85d86bdd239frow5_col1\" class=\"data row5 col1\" >Ljubljana</td>\n",
       "                        <td id=\"T_e695a557_3740_11eb_b7f8_85d86bdd239frow5_col2\" class=\"data row5 col2\" >46.050000</td>\n",
       "                        <td id=\"T_e695a557_3740_11eb_b7f8_85d86bdd239frow5_col3\" class=\"data row5 col3\" >14.516667</td>\n",
       "                        <td id=\"T_e695a557_3740_11eb_b7f8_85d86bdd239frow5_col4\" class=\"data row5 col4\" >SI</td>\n",
       "                        <td id=\"T_e695a557_3740_11eb_b7f8_85d86bdd239frow5_col5\" class=\"data row5 col5\" >Europe</td>\n",
       "                        <td id=\"T_e695a557_3740_11eb_b7f8_85d86bdd239frow5_col6\" class=\"data row5 col6\" >6</td>\n",
       "                        <td id=\"T_e695a557_3740_11eb_b7f8_85d86bdd239frow5_col7\" class=\"data row5 col7\" >Budapest</td>\n",
       "                        <td id=\"T_e695a557_3740_11eb_b7f8_85d86bdd239frow5_col8\" class=\"data row5 col8\" >Vaduz</td>\n",
       "                        <td id=\"T_e695a557_3740_11eb_b7f8_85d86bdd239frow5_col9\" class=\"data row5 col9\" >Ljubljana</td>\n",
       "                        <td id=\"T_e695a557_3740_11eb_b7f8_85d86bdd239frow5_col10\" class=\"data row5 col10\" >Budapest</td>\n",
       "                        <td id=\"T_e695a557_3740_11eb_b7f8_85d86bdd239frow5_col11\" class=\"data row5 col11\" >17635.700000</td>\n",
       "            </tr>\n",
       "            <tr>\n",
       "                        <th id=\"T_e695a557_3740_11eb_b7f8_85d86bdd239flevel0_row6\" class=\"row_heading level0 row6\" >6</th>\n",
       "                        <td id=\"T_e695a557_3740_11eb_b7f8_85d86bdd239frow6_col0\" class=\"data row6 col0\" >Hungary</td>\n",
       "                        <td id=\"T_e695a557_3740_11eb_b7f8_85d86bdd239frow6_col1\" class=\"data row6 col1\" >Budapest</td>\n",
       "                        <td id=\"T_e695a557_3740_11eb_b7f8_85d86bdd239frow6_col2\" class=\"data row6 col2\" >47.500000</td>\n",
       "                        <td id=\"T_e695a557_3740_11eb_b7f8_85d86bdd239frow6_col3\" class=\"data row6 col3\" >19.083333</td>\n",
       "                        <td id=\"T_e695a557_3740_11eb_b7f8_85d86bdd239frow6_col4\" class=\"data row6 col4\" >HU</td>\n",
       "                        <td id=\"T_e695a557_3740_11eb_b7f8_85d86bdd239frow6_col5\" class=\"data row6 col5\" >Europe</td>\n",
       "                        <td id=\"T_e695a557_3740_11eb_b7f8_85d86bdd239frow6_col6\" class=\"data row6 col6\" >7</td>\n",
       "                        <td id=\"T_e695a557_3740_11eb_b7f8_85d86bdd239frow6_col7\" class=\"data row6 col7\" >Bratislava</td>\n",
       "                        <td id=\"T_e695a557_3740_11eb_b7f8_85d86bdd239frow6_col8\" class=\"data row6 col8\" >Ljubljana</td>\n",
       "                        <td id=\"T_e695a557_3740_11eb_b7f8_85d86bdd239frow6_col9\" class=\"data row6 col9\" >Budapest</td>\n",
       "                        <td id=\"T_e695a557_3740_11eb_b7f8_85d86bdd239frow6_col10\" class=\"data row6 col10\" >Bratislava</td>\n",
       "                        <td id=\"T_e695a557_3740_11eb_b7f8_85d86bdd239frow6_col11\" class=\"data row6 col11\" >7881.100000</td>\n",
       "            </tr>\n",
       "            <tr>\n",
       "                        <th id=\"T_e695a557_3740_11eb_b7f8_85d86bdd239flevel0_row7\" class=\"row_heading level0 row7\" >7</th>\n",
       "                        <td id=\"T_e695a557_3740_11eb_b7f8_85d86bdd239frow7_col0\" class=\"data row7 col0\" >Slovakia</td>\n",
       "                        <td id=\"T_e695a557_3740_11eb_b7f8_85d86bdd239frow7_col1\" class=\"data row7 col1\" >Bratislava</td>\n",
       "                        <td id=\"T_e695a557_3740_11eb_b7f8_85d86bdd239frow7_col2\" class=\"data row7 col2\" >48.150000</td>\n",
       "                        <td id=\"T_e695a557_3740_11eb_b7f8_85d86bdd239frow7_col3\" class=\"data row7 col3\" >17.116667</td>\n",
       "                        <td id=\"T_e695a557_3740_11eb_b7f8_85d86bdd239frow7_col4\" class=\"data row7 col4\" >SK</td>\n",
       "                        <td id=\"T_e695a557_3740_11eb_b7f8_85d86bdd239frow7_col5\" class=\"data row7 col5\" >Europe</td>\n",
       "                        <td id=\"T_e695a557_3740_11eb_b7f8_85d86bdd239frow7_col6\" class=\"data row7 col6\" >8</td>\n",
       "                        <td id=\"T_e695a557_3740_11eb_b7f8_85d86bdd239frow7_col7\" class=\"data row7 col7\" >Vienna</td>\n",
       "                        <td id=\"T_e695a557_3740_11eb_b7f8_85d86bdd239frow7_col8\" class=\"data row7 col8\" >Budapest</td>\n",
       "                        <td id=\"T_e695a557_3740_11eb_b7f8_85d86bdd239frow7_col9\" class=\"data row7 col9\" >Bratislava</td>\n",
       "                        <td id=\"T_e695a557_3740_11eb_b7f8_85d86bdd239frow7_col10\" class=\"data row7 col10\" >Vienna</td>\n",
       "                        <td id=\"T_e695a557_3740_11eb_b7f8_85d86bdd239frow7_col11\" class=\"data row7 col11\" >3533.100000</td>\n",
       "            </tr>\n",
       "            <tr>\n",
       "                        <th id=\"T_e695a557_3740_11eb_b7f8_85d86bdd239flevel0_row8\" class=\"row_heading level0 row8\" >8</th>\n",
       "                        <td id=\"T_e695a557_3740_11eb_b7f8_85d86bdd239frow8_col0\" class=\"data row8 col0\" >Austria</td>\n",
       "                        <td id=\"T_e695a557_3740_11eb_b7f8_85d86bdd239frow8_col1\" class=\"data row8 col1\" >Vienna</td>\n",
       "                        <td id=\"T_e695a557_3740_11eb_b7f8_85d86bdd239frow8_col2\" class=\"data row8 col2\" >48.200000</td>\n",
       "                        <td id=\"T_e695a557_3740_11eb_b7f8_85d86bdd239frow8_col3\" class=\"data row8 col3\" >16.366667</td>\n",
       "                        <td id=\"T_e695a557_3740_11eb_b7f8_85d86bdd239frow8_col4\" class=\"data row8 col4\" >AT</td>\n",
       "                        <td id=\"T_e695a557_3740_11eb_b7f8_85d86bdd239frow8_col5\" class=\"data row8 col5\" >Europe</td>\n",
       "                        <td id=\"T_e695a557_3740_11eb_b7f8_85d86bdd239frow8_col6\" class=\"data row8 col6\" >9</td>\n",
       "                        <td id=\"T_e695a557_3740_11eb_b7f8_85d86bdd239frow8_col7\" class=\"data row8 col7\" >Warsaw</td>\n",
       "                        <td id=\"T_e695a557_3740_11eb_b7f8_85d86bdd239frow8_col8\" class=\"data row8 col8\" >Bratislava</td>\n",
       "                        <td id=\"T_e695a557_3740_11eb_b7f8_85d86bdd239frow8_col9\" class=\"data row8 col9\" >Vienna</td>\n",
       "                        <td id=\"T_e695a557_3740_11eb_b7f8_85d86bdd239frow8_col10\" class=\"data row8 col10\" >Warsaw</td>\n",
       "                        <td id=\"T_e695a557_3740_11eb_b7f8_85d86bdd239frow8_col11\" class=\"data row8 col11\" >29367.000000</td>\n",
       "            </tr>\n",
       "    </tbody></table>"
      ],
      "text/plain": [
       "<pandas.io.formats.style.Styler at 0x7fd489045f40>"
      ]
     },
     "execution_count": 56,
     "metadata": {},
     "output_type": "execute_result"
    }
   ],
   "source": [
    "total_duration, path_df = path_to_df(min_paths, ce_cities, distances_df)\n",
    "path_df.style.highlight_max(color = 'lightgreen', axis = 0, subset=\"duration(s)\")"
   ]
  },
  {
   "cell_type": "code",
   "execution_count": 57,
   "metadata": {
    "ExecuteTime": {
     "end_time": "2020-11-28T22:09:56.692430Z",
     "start_time": "2020-11-28T22:09:56.682493Z"
    }
   },
   "outputs": [
    {
     "data": {
      "text/plain": [
       "157312.7"
      ]
     },
     "execution_count": 57,
     "metadata": {},
     "output_type": "execute_result"
    }
   ],
   "source": [
    "total_duration"
   ]
  },
  {
   "cell_type": "markdown",
   "metadata": {
    "ExecuteTime": {
     "end_time": "2020-11-28T22:13:29.083262Z",
     "start_time": "2020-11-28T22:13:29.068268Z"
    }
   },
   "source": [
    "Let's shift the order so that the path start in Ljubljana"
   ]
  },
  {
   "cell_type": "code",
   "execution_count": 58,
   "metadata": {
    "ExecuteTime": {
     "end_time": "2020-11-28T22:21:37.618056Z",
     "start_time": "2020-11-28T22:21:37.590130Z"
    }
   },
   "outputs": [
    {
     "data": {
      "text/html": [
       "<div>\n",
       "<style scoped>\n",
       "    .dataframe tbody tr th:only-of-type {\n",
       "        vertical-align: middle;\n",
       "    }\n",
       "\n",
       "    .dataframe tbody tr th {\n",
       "        vertical-align: top;\n",
       "    }\n",
       "\n",
       "    .dataframe thead th {\n",
       "        text-align: right;\n",
       "    }\n",
       "</style>\n",
       "<table border=\"1\" class=\"dataframe\">\n",
       "  <thead>\n",
       "    <tr style=\"text-align: right;\">\n",
       "      <th></th>\n",
       "      <th>order</th>\n",
       "      <th>origin_name</th>\n",
       "      <th>destination_name</th>\n",
       "      <th>duration(s)</th>\n",
       "    </tr>\n",
       "  </thead>\n",
       "  <tbody>\n",
       "    <tr>\n",
       "      <th>5</th>\n",
       "      <td>6</td>\n",
       "      <td>Ljubljana</td>\n",
       "      <td>Budapest</td>\n",
       "      <td>17635.7</td>\n",
       "    </tr>\n",
       "    <tr>\n",
       "      <th>6</th>\n",
       "      <td>7</td>\n",
       "      <td>Budapest</td>\n",
       "      <td>Bratislava</td>\n",
       "      <td>7881.1</td>\n",
       "    </tr>\n",
       "    <tr>\n",
       "      <th>7</th>\n",
       "      <td>8</td>\n",
       "      <td>Bratislava</td>\n",
       "      <td>Vienna</td>\n",
       "      <td>3533.1</td>\n",
       "    </tr>\n",
       "    <tr>\n",
       "      <th>8</th>\n",
       "      <td>9</td>\n",
       "      <td>Vienna</td>\n",
       "      <td>Warsaw</td>\n",
       "      <td>29367.0</td>\n",
       "    </tr>\n",
       "    <tr>\n",
       "      <th>0</th>\n",
       "      <td>10</td>\n",
       "      <td>Warsaw</td>\n",
       "      <td>Berlin</td>\n",
       "      <td>20528.8</td>\n",
       "    </tr>\n",
       "    <tr>\n",
       "      <th>1</th>\n",
       "      <td>11</td>\n",
       "      <td>Berlin</td>\n",
       "      <td>Prague</td>\n",
       "      <td>13651.1</td>\n",
       "    </tr>\n",
       "    <tr>\n",
       "      <th>2</th>\n",
       "      <td>12</td>\n",
       "      <td>Prague</td>\n",
       "      <td>Bern</td>\n",
       "      <td>30022.3</td>\n",
       "    </tr>\n",
       "    <tr>\n",
       "      <th>3</th>\n",
       "      <td>13</td>\n",
       "      <td>Bern</td>\n",
       "      <td>Vaduz</td>\n",
       "      <td>9856.0</td>\n",
       "    </tr>\n",
       "    <tr>\n",
       "      <th>4</th>\n",
       "      <td>14</td>\n",
       "      <td>Vaduz</td>\n",
       "      <td>Ljubljana</td>\n",
       "      <td>24837.6</td>\n",
       "    </tr>\n",
       "  </tbody>\n",
       "</table>\n",
       "</div>"
      ],
      "text/plain": [
       "   order origin_name destination_name  duration(s)\n",
       "5      6   Ljubljana         Budapest      17635.7\n",
       "6      7    Budapest       Bratislava       7881.1\n",
       "7      8  Bratislava           Vienna       3533.1\n",
       "8      9      Vienna           Warsaw      29367.0\n",
       "0     10      Warsaw           Berlin      20528.8\n",
       "1     11      Berlin           Prague      13651.1\n",
       "2     12      Prague             Bern      30022.3\n",
       "3     13        Bern            Vaduz       9856.0\n",
       "4     14       Vaduz        Ljubljana      24837.6"
      ]
     },
     "execution_count": 58,
     "metadata": {},
     "output_type": "execute_result"
    }
   ],
   "source": [
    "filter_cities_before_bern = path_df[\"order\"] < path_df.loc[path_df[\"capital\"]==\"Ljubljana\",\"order\"].values[0]\n",
    "path_df.loc[filter_cities_before_bern, \"order\"] += path_df[\"order\"].max()\n",
    "path_df.sort_values(by=\"order\")[[\"order\", \"origin_name\", \"destination_name\", \"duration(s)\"]]"
   ]
  },
  {
   "cell_type": "markdown",
   "metadata": {
    "ExecuteTime": {
     "end_time": "2020-11-28T22:22:00.788177Z",
     "start_time": "2020-11-28T22:22:00.780197Z"
    }
   },
   "source": [
    "Let's now reverse the order, so that we won't go from Ljublana to Vaduz, but vice versa"
   ]
  },
  {
   "cell_type": "code",
   "execution_count": 59,
   "metadata": {
    "ExecuteTime": {
     "end_time": "2020-11-28T22:22:03.312805Z",
     "start_time": "2020-11-28T22:22:03.280892Z"
    }
   },
   "outputs": [
    {
     "data": {
      "text/html": [
       "<div>\n",
       "<style scoped>\n",
       "    .dataframe tbody tr th:only-of-type {\n",
       "        vertical-align: middle;\n",
       "    }\n",
       "\n",
       "    .dataframe tbody tr th {\n",
       "        vertical-align: top;\n",
       "    }\n",
       "\n",
       "    .dataframe thead th {\n",
       "        text-align: right;\n",
       "    }\n",
       "</style>\n",
       "<table border=\"1\" class=\"dataframe\">\n",
       "  <thead>\n",
       "    <tr style=\"text-align: right;\">\n",
       "      <th></th>\n",
       "      <th>order</th>\n",
       "      <th>origin_name</th>\n",
       "      <th>destination_name</th>\n",
       "      <th>duration(s)</th>\n",
       "    </tr>\n",
       "  </thead>\n",
       "  <tbody>\n",
       "    <tr>\n",
       "      <th>8</th>\n",
       "      <td>14</td>\n",
       "      <td>Ljubljana</td>\n",
       "      <td>Vaduz</td>\n",
       "      <td>24837.6</td>\n",
       "    </tr>\n",
       "    <tr>\n",
       "      <th>7</th>\n",
       "      <td>13</td>\n",
       "      <td>Vaduz</td>\n",
       "      <td>Bern</td>\n",
       "      <td>9856.0</td>\n",
       "    </tr>\n",
       "    <tr>\n",
       "      <th>6</th>\n",
       "      <td>12</td>\n",
       "      <td>Bern</td>\n",
       "      <td>Prague</td>\n",
       "      <td>30022.3</td>\n",
       "    </tr>\n",
       "    <tr>\n",
       "      <th>5</th>\n",
       "      <td>11</td>\n",
       "      <td>Prague</td>\n",
       "      <td>Berlin</td>\n",
       "      <td>13651.1</td>\n",
       "    </tr>\n",
       "    <tr>\n",
       "      <th>4</th>\n",
       "      <td>10</td>\n",
       "      <td>Berlin</td>\n",
       "      <td>Warsaw</td>\n",
       "      <td>20528.8</td>\n",
       "    </tr>\n",
       "    <tr>\n",
       "      <th>3</th>\n",
       "      <td>9</td>\n",
       "      <td>Warsaw</td>\n",
       "      <td>Vienna</td>\n",
       "      <td>29367.0</td>\n",
       "    </tr>\n",
       "    <tr>\n",
       "      <th>2</th>\n",
       "      <td>8</td>\n",
       "      <td>Vienna</td>\n",
       "      <td>Bratislava</td>\n",
       "      <td>3533.1</td>\n",
       "    </tr>\n",
       "    <tr>\n",
       "      <th>1</th>\n",
       "      <td>7</td>\n",
       "      <td>Bratislava</td>\n",
       "      <td>Budapest</td>\n",
       "      <td>7881.1</td>\n",
       "    </tr>\n",
       "    <tr>\n",
       "      <th>0</th>\n",
       "      <td>6</td>\n",
       "      <td>Budapest</td>\n",
       "      <td>Ljubljana</td>\n",
       "      <td>17635.7</td>\n",
       "    </tr>\n",
       "  </tbody>\n",
       "</table>\n",
       "</div>"
      ],
      "text/plain": [
       "   order origin_name destination_name  duration(s)\n",
       "8     14   Ljubljana            Vaduz      24837.6\n",
       "7     13       Vaduz             Bern       9856.0\n",
       "6     12        Bern           Prague      30022.3\n",
       "5     11      Prague           Berlin      13651.1\n",
       "4     10      Berlin           Warsaw      20528.8\n",
       "3      9      Warsaw           Vienna      29367.0\n",
       "2      8      Vienna       Bratislava       3533.1\n",
       "1      7  Bratislava         Budapest       7881.1\n",
       "0      6    Budapest        Ljubljana      17635.7"
      ]
     },
     "execution_count": 59,
     "metadata": {},
     "output_type": "execute_result"
    }
   ],
   "source": [
    "path_df_reversed = path_df.sort_values(by=\"order\").reset_index(drop=True)\n",
    "path_df_reversed = path_df_reversed.reindex(index=path_df_reversed.index[::-1])\n",
    "path_df_reversed.rename(columns={\"destination_name\":\"origin_name\", \"origin_name\":\"destination_name\"}, inplace=True)\n",
    "path_df_reversed[[\"order\", \"origin_name\", \"destination_name\", \"duration(s)\"]]"
   ]
  },
  {
   "cell_type": "markdown",
   "metadata": {
    "ExecuteTime": {
     "end_time": "2020-11-28T22:23:25.616823Z",
     "start_time": "2020-11-28T22:23:25.597874Z"
    }
   },
   "source": [
    "This path is exactly the same our Travelling Salesman algorithm found. You can see in the `min_paths` variable, that all combinations of these roads are the shortest (considering that we return to the place where we have started).\n",
    "\n",
    "Draw the capitals on the Plotly Geochart. Learn more about plotly - [link](https://towardsdatascience.com/visualization-with-plotly-express-comprehensive-guide-eb5ee4b50b57)"
   ]
  },
  {
   "cell_type": "code",
   "execution_count": 60,
   "metadata": {},
   "outputs": [],
   "source": [
    "import plotly.graph_objects as go"
   ]
  },
  {
   "cell_type": "code",
   "execution_count": null,
   "metadata": {},
   "outputs": [],
   "source": [
    "# draw the capitals\n",
    "fig = go.Figure(data=go.Scattergeo(\n",
    "    locationmode = 'USA-states',\n",
    "        lon = path_df['lon'],\n",
    "        lat = path_df['lat'],\n",
    "        text = df['capital'],\n",
    "        mode = 'markers',\n",
    "    name=\"capitals\"\n",
    "        ))\n",
    "\n",
    "# draw the paths between the capitals\n",
    "for i in range(len(path_df)-1):\n",
    "    fig.add_trace(go.Scattergeo(\n",
    "        locationmode = 'USA-states',\n",
    "        lon=[path_df.loc[i,\"lon\"],path_df.loc[i+1,\"lon\"]], \n",
    "        lat=[path_df.loc[i,\"lat\"],path_df.loc[i+1,\"lat\"]], \n",
    "        name=\"-\".join([path_df.loc[i,\"capital\"],path_df.loc[i+1,\"capital\"]]),\n",
    "        mode=\"lines\"))\n",
    "    \n",
    "# the last path\n",
    "fig.add_trace(go.Scattergeo(\n",
    "        locationmode = 'USA-states',\n",
    "        lon=[path_df.loc[8,\"lon\"],path_df.loc[0,\"lon\"]], \n",
    "        lat=[path_df.loc[8,\"lat\"],path_df.loc[0,\"lat\"]], \n",
    "        name=\"-\".join([path_df.loc[8,\"capital\"],path_df.loc[0,\"capital\"]]),\n",
    "        mode=\"lines\"))\n",
    "\n",
    "fig.update_layout(\n",
    "        title = 'Shortest Route Between Central European Cities',\n",
    "        geo_scope='europe',\n",
    "    )\n",
    "fig.show()"
   ]
  }
 ],
 "metadata": {
  "kernelspec": {
   "display_name": "mapsenv",
   "language": "python",
   "name": "mapsenv"
  },
  "language_info": {
   "codemirror_mode": {
    "name": "ipython",
    "version": 3
   },
   "file_extension": ".py",
   "mimetype": "text/x-python",
   "name": "python",
   "nbconvert_exporter": "python",
   "pygments_lexer": "ipython3",
   "version": "3.8.5"
  },
  "toc": {
   "base_numbering": 1,
   "nav_menu": {},
   "number_sections": true,
   "sideBar": true,
   "skip_h1_title": false,
   "title_cell": "Table of Contents",
   "title_sidebar": "Contents",
   "toc_cell": false,
   "toc_position": {},
   "toc_section_display": true,
   "toc_window_display": false
  },
  "varInspector": {
   "cols": {
    "lenName": 16,
    "lenType": 16,
    "lenVar": 40
   },
   "kernels_config": {
    "python": {
     "delete_cmd_postfix": "",
     "delete_cmd_prefix": "del ",
     "library": "var_list.py",
     "varRefreshCmd": "print(var_dic_list())"
    },
    "r": {
     "delete_cmd_postfix": ") ",
     "delete_cmd_prefix": "rm(",
     "library": "var_list.r",
     "varRefreshCmd": "cat(var_dic_list()) "
    }
   },
   "types_to_exclude": [
    "module",
    "function",
    "builtin_function_or_method",
    "instance",
    "_Feature"
   ],
   "window_display": false
  }
 },
 "nbformat": 4,
 "nbformat_minor": 2
}
